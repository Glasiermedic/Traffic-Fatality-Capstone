{
  "nbformat": 4,
  "nbformat_minor": 0,
  "metadata": {
    "colab": {
      "name": "Regression Challenge.ipynb",
      "provenance": [],
      "collapsed_sections": [],
      "include_colab_link": true
    },
    "kernelspec": {
      "name": "python3",
      "display_name": "Python 3"
    },
    "accelerator": "GPU"
  },
  "cells": [
    {
      "cell_type": "markdown",
      "metadata": {
        "id": "view-in-github",
        "colab_type": "text"
      },
      "source": [
        "<a href=\"https://colab.research.google.com/github/Glasiermedic/Traffic-Fatality-Capstone/blob/master/Regression_Challenge.ipynb\" target=\"_parent\"><img src=\"https://colab.research.google.com/assets/colab-badge.svg\" alt=\"Open In Colab\"/></a>"
      ]
    },
    {
      "cell_type": "markdown",
      "metadata": {
        "id": "Gqa5lUE3xbFR",
        "colab_type": "text"
      },
      "source": [
        "## Logistic Regression-classifier comparative modeling\n",
        "\n",
        "### 2017 FARS DATA\n",
        "\n",
        "####Fatal accidents are an on going issue in the United States in since the advent of combustion engines. In the last decade efforts to reduce the number of fatalities in accidents across the nation has touched the automobile industry, emergency response agencies, construction industry and even the cell phone industry.   The United States National Highway Traffic Safety Administration has been collecting data through the  Fatality Analysis Reporting System to help understand what is leading to over thirty four thousand fatal accidents each year.  This project is aimed at helping to predict the likelihood that more than 50% of invididuals involved in the motor vehicle accident will be fatalities.  Using the model to predict the outcome can help to improve intersections, determine appropriate lighting and roadway prevention devices and the change to traffic laws. \n"
      ]
    },
    {
      "cell_type": "code",
      "metadata": {
        "id": "ZMs6hU5HBMRT",
        "colab_type": "code",
        "colab": {
          "base_uri": "https://localhost:8080/",
          "height": 264
        },
        "outputId": "49b7e8de-de5c-498c-e839-83722d3f2361"
      },
      "source": [
        "import pandas as pd\n",
        "import numpy as np\n",
        "import matplotlib.pyplot as plt\n",
        "import seaborn as sns; sns.set()\n",
        "#!pip install boruta\n",
        "!pip3 install seaborn==0.9.0\n",
        "\n",
        "#from sklearn.linear_model import LogisticRegression\n",
        "from sklearn.linear_model import LogisticRegressionCV\n",
        "from sklearn.metrics import confusion_matrix\n",
        "from sklearn.preprocessing import MinMaxScaler \n",
        "from sklearn.feature_selection import RFECV\n",
        "from sklearn.model_selection import GridSearchCV\n",
        "from sklearn.svm import SVC\n",
        "\n",
        "from sklearn.ensemble import RandomForestClassifier\n",
        "#from boruta import boruta_py\n",
        "from sklearn import ensemble\n",
        "from sklearn.model_selection import cross_val_score\n",
        "from sklearn.model_selection import train_test_split\n",
        "from sklearn.model_selection import StratifiedShuffleSplit\n",
        "from sklearn.metrics import classification_report\n",
        "from sklearn.model_selection import cross_val_predict\n",
        "\n",
        "import warnings\n",
        "warnings.filterwarnings('ignore')"
      ],
      "execution_count": 1,
      "outputs": [
        {
          "output_type": "stream",
          "text": [
            "/usr/local/lib/python3.6/dist-packages/statsmodels/tools/_testing.py:19: FutureWarning: pandas.util.testing is deprecated. Use the functions in the public API at pandas.testing instead.\n",
            "  import pandas.util.testing as tm\n"
          ],
          "name": "stderr"
        },
        {
          "output_type": "stream",
          "text": [
            "Requirement already satisfied: seaborn==0.9.0 in /usr/local/lib/python3.6/dist-packages (0.9.0)\n",
            "Requirement already satisfied: matplotlib>=1.4.3 in /usr/local/lib/python3.6/dist-packages (from seaborn==0.9.0) (3.2.1)\n",
            "Requirement already satisfied: scipy>=0.14.0 in /usr/local/lib/python3.6/dist-packages (from seaborn==0.9.0) (1.4.1)\n",
            "Requirement already satisfied: numpy>=1.9.3 in /usr/local/lib/python3.6/dist-packages (from seaborn==0.9.0) (1.18.5)\n",
            "Requirement already satisfied: pandas>=0.15.2 in /usr/local/lib/python3.6/dist-packages (from seaborn==0.9.0) (1.0.4)\n",
            "Requirement already satisfied: pyparsing!=2.0.4,!=2.1.2,!=2.1.6,>=2.0.1 in /usr/local/lib/python3.6/dist-packages (from matplotlib>=1.4.3->seaborn==0.9.0) (2.4.7)\n",
            "Requirement already satisfied: cycler>=0.10 in /usr/local/lib/python3.6/dist-packages (from matplotlib>=1.4.3->seaborn==0.9.0) (0.10.0)\n",
            "Requirement already satisfied: kiwisolver>=1.0.1 in /usr/local/lib/python3.6/dist-packages (from matplotlib>=1.4.3->seaborn==0.9.0) (1.2.0)\n",
            "Requirement already satisfied: python-dateutil>=2.1 in /usr/local/lib/python3.6/dist-packages (from matplotlib>=1.4.3->seaborn==0.9.0) (2.8.1)\n",
            "Requirement already satisfied: pytz>=2017.2 in /usr/local/lib/python3.6/dist-packages (from pandas>=0.15.2->seaborn==0.9.0) (2018.9)\n",
            "Requirement already satisfied: six in /usr/local/lib/python3.6/dist-packages (from cycler>=0.10->matplotlib>=1.4.3->seaborn==0.9.0) (1.12.0)\n"
          ],
          "name": "stdout"
        }
      ]
    },
    {
      "cell_type": "markdown",
      "metadata": {
        "id": "TduBuTEWK8vZ",
        "colab_type": "text"
      },
      "source": [
        "#### The data froms from the FARS/NHTSA 2017 data archive.  "
      ]
    },
    {
      "cell_type": "code",
      "metadata": {
        "id": "dU-mcuCtGrTZ",
        "colab_type": "code",
        "colab": {}
      },
      "source": [
        "fars = pd.read_csv(\"https://raw.githubusercontent.com/lbcommer/datasets/master/2017-fars-data-set-traffic-fatalities/accident.csv\")"
      ],
      "execution_count": 2,
      "outputs": []
    },
    {
      "cell_type": "markdown",
      "metadata": {
        "id": "G4VyosbvBmsX",
        "colab_type": "text"
      },
      "source": [
        "### Feature interpetation and labels and dimension\n",
        "\n",
        "####The feature labels and their corresponding labels can be found at \n",
        "\n",
        "####ftp://ftp.nhtsa.dot.gov/fars/FARS-DOC/Coding%20and%20Validation%20Manual/2017%20FARS%20CRSS%20Coding%20and%20Validation%20Manual%2013741.pdf\n",
        "\n",
        "####All labels are in relation to the accident data set.  The dictionaries are distributed throughout the manual.  \n",
        "\n",
        "#### There are 34247 entries with 52 variables\n",
        "\n",
        "\n"
      ]
    },
    {
      "cell_type": "code",
      "metadata": {
        "id": "ywbYbv31GuOS",
        "colab_type": "code",
        "colab": {
          "base_uri": "https://localhost:8080/",
          "height": 34
        },
        "outputId": "24e545de-221f-4eb4-fe4c-50f159bfabda"
      },
      "source": [
        "fars.shape"
      ],
      "execution_count": 3,
      "outputs": [
        {
          "output_type": "execute_result",
          "data": {
            "text/plain": [
              "(34247, 52)"
            ]
          },
          "metadata": {
            "tags": []
          },
          "execution_count": 3
        }
      ]
    },
    {
      "cell_type": "code",
      "metadata": {
        "id": "ifoEDhh8GwEF",
        "colab_type": "code",
        "colab": {
          "base_uri": "https://localhost:8080/",
          "height": 258
        },
        "outputId": "02e33c30-4e5f-4cef-aecb-eda2b5eeaff8"
      },
      "source": [
        "fars.head()"
      ],
      "execution_count": 4,
      "outputs": [
        {
          "output_type": "execute_result",
          "data": {
            "text/html": [
              "<div>\n",
              "<style scoped>\n",
              "    .dataframe tbody tr th:only-of-type {\n",
              "        vertical-align: middle;\n",
              "    }\n",
              "\n",
              "    .dataframe tbody tr th {\n",
              "        vertical-align: top;\n",
              "    }\n",
              "\n",
              "    .dataframe thead th {\n",
              "        text-align: right;\n",
              "    }\n",
              "</style>\n",
              "<table border=\"1\" class=\"dataframe\">\n",
              "  <thead>\n",
              "    <tr style=\"text-align: right;\">\n",
              "      <th></th>\n",
              "      <th>STATE</th>\n",
              "      <th>ST_CASE</th>\n",
              "      <th>VE_TOTAL</th>\n",
              "      <th>VE_FORMS</th>\n",
              "      <th>PVH_INVL</th>\n",
              "      <th>PEDS</th>\n",
              "      <th>PERNOTMVIT</th>\n",
              "      <th>PERMVIT</th>\n",
              "      <th>PERSONS</th>\n",
              "      <th>COUNTY</th>\n",
              "      <th>CITY</th>\n",
              "      <th>DAY</th>\n",
              "      <th>MONTH</th>\n",
              "      <th>YEAR</th>\n",
              "      <th>DAY_WEEK</th>\n",
              "      <th>HOUR</th>\n",
              "      <th>MINUTE</th>\n",
              "      <th>NHS</th>\n",
              "      <th>RUR_URB</th>\n",
              "      <th>FUNC_SYS</th>\n",
              "      <th>RD_OWNER</th>\n",
              "      <th>ROUTE</th>\n",
              "      <th>TWAY_ID</th>\n",
              "      <th>TWAY_ID2</th>\n",
              "      <th>MILEPT</th>\n",
              "      <th>LATITUDE</th>\n",
              "      <th>LONGITUD</th>\n",
              "      <th>SP_JUR</th>\n",
              "      <th>HARM_EV</th>\n",
              "      <th>MAN_COLL</th>\n",
              "      <th>RELJCT1</th>\n",
              "      <th>RELJCT2</th>\n",
              "      <th>TYP_INT</th>\n",
              "      <th>WRK_ZONE</th>\n",
              "      <th>REL_ROAD</th>\n",
              "      <th>LGT_COND</th>\n",
              "      <th>WEATHER1</th>\n",
              "      <th>WEATHER2</th>\n",
              "      <th>WEATHER</th>\n",
              "      <th>SCH_BUS</th>\n",
              "      <th>RAIL</th>\n",
              "      <th>NOT_HOUR</th>\n",
              "      <th>NOT_MIN</th>\n",
              "      <th>ARR_HOUR</th>\n",
              "      <th>ARR_MIN</th>\n",
              "      <th>HOSP_HR</th>\n",
              "      <th>HOSP_MN</th>\n",
              "      <th>CF1</th>\n",
              "      <th>CF2</th>\n",
              "      <th>CF3</th>\n",
              "      <th>FATALS</th>\n",
              "      <th>DRUNK_DR</th>\n",
              "    </tr>\n",
              "  </thead>\n",
              "  <tbody>\n",
              "    <tr>\n",
              "      <th>0</th>\n",
              "      <td>1</td>\n",
              "      <td>10001</td>\n",
              "      <td>1</td>\n",
              "      <td>1</td>\n",
              "      <td>0</td>\n",
              "      <td>0</td>\n",
              "      <td>0</td>\n",
              "      <td>1</td>\n",
              "      <td>1</td>\n",
              "      <td>73</td>\n",
              "      <td>330</td>\n",
              "      <td>19</td>\n",
              "      <td>2</td>\n",
              "      <td>2017</td>\n",
              "      <td>1</td>\n",
              "      <td>23</td>\n",
              "      <td>35</td>\n",
              "      <td>1</td>\n",
              "      <td>2</td>\n",
              "      <td>1</td>\n",
              "      <td>1</td>\n",
              "      <td>1</td>\n",
              "      <td>I-459</td>\n",
              "      <td>NaN</td>\n",
              "      <td>10</td>\n",
              "      <td>33.335661</td>\n",
              "      <td>-87.007094</td>\n",
              "      <td>0</td>\n",
              "      <td>38</td>\n",
              "      <td>0</td>\n",
              "      <td>0</td>\n",
              "      <td>1</td>\n",
              "      <td>1</td>\n",
              "      <td>0</td>\n",
              "      <td>3</td>\n",
              "      <td>2</td>\n",
              "      <td>1</td>\n",
              "      <td>0</td>\n",
              "      <td>1</td>\n",
              "      <td>0</td>\n",
              "      <td>725409J</td>\n",
              "      <td>99</td>\n",
              "      <td>99</td>\n",
              "      <td>99</td>\n",
              "      <td>99</td>\n",
              "      <td>88</td>\n",
              "      <td>88</td>\n",
              "      <td>0</td>\n",
              "      <td>0</td>\n",
              "      <td>0</td>\n",
              "      <td>1</td>\n",
              "      <td>0</td>\n",
              "    </tr>\n",
              "    <tr>\n",
              "      <th>1</th>\n",
              "      <td>1</td>\n",
              "      <td>10002</td>\n",
              "      <td>1</td>\n",
              "      <td>1</td>\n",
              "      <td>0</td>\n",
              "      <td>0</td>\n",
              "      <td>0</td>\n",
              "      <td>1</td>\n",
              "      <td>1</td>\n",
              "      <td>89</td>\n",
              "      <td>1730</td>\n",
              "      <td>14</td>\n",
              "      <td>2</td>\n",
              "      <td>2017</td>\n",
              "      <td>3</td>\n",
              "      <td>14</td>\n",
              "      <td>59</td>\n",
              "      <td>1</td>\n",
              "      <td>2</td>\n",
              "      <td>1</td>\n",
              "      <td>1</td>\n",
              "      <td>1</td>\n",
              "      <td>I-565</td>\n",
              "      <td>NaN</td>\n",
              "      <td>70</td>\n",
              "      <td>34.661528</td>\n",
              "      <td>-86.786853</td>\n",
              "      <td>0</td>\n",
              "      <td>1</td>\n",
              "      <td>0</td>\n",
              "      <td>0</td>\n",
              "      <td>1</td>\n",
              "      <td>1</td>\n",
              "      <td>0</td>\n",
              "      <td>3</td>\n",
              "      <td>1</td>\n",
              "      <td>1</td>\n",
              "      <td>0</td>\n",
              "      <td>1</td>\n",
              "      <td>0</td>\n",
              "      <td>0000000</td>\n",
              "      <td>15</td>\n",
              "      <td>0</td>\n",
              "      <td>15</td>\n",
              "      <td>9</td>\n",
              "      <td>88</td>\n",
              "      <td>88</td>\n",
              "      <td>0</td>\n",
              "      <td>0</td>\n",
              "      <td>0</td>\n",
              "      <td>1</td>\n",
              "      <td>0</td>\n",
              "    </tr>\n",
              "    <tr>\n",
              "      <th>2</th>\n",
              "      <td>1</td>\n",
              "      <td>10003</td>\n",
              "      <td>3</td>\n",
              "      <td>3</td>\n",
              "      <td>0</td>\n",
              "      <td>0</td>\n",
              "      <td>0</td>\n",
              "      <td>3</td>\n",
              "      <td>3</td>\n",
              "      <td>101</td>\n",
              "      <td>2130</td>\n",
              "      <td>31</td>\n",
              "      <td>1</td>\n",
              "      <td>2017</td>\n",
              "      <td>3</td>\n",
              "      <td>20</td>\n",
              "      <td>31</td>\n",
              "      <td>1</td>\n",
              "      <td>2</td>\n",
              "      <td>1</td>\n",
              "      <td>1</td>\n",
              "      <td>1</td>\n",
              "      <td>I-85</td>\n",
              "      <td>CHANTILLY PKWY</td>\n",
              "      <td>100</td>\n",
              "      <td>32.366519</td>\n",
              "      <td>-86.145281</td>\n",
              "      <td>0</td>\n",
              "      <td>12</td>\n",
              "      <td>1</td>\n",
              "      <td>0</td>\n",
              "      <td>1</td>\n",
              "      <td>1</td>\n",
              "      <td>0</td>\n",
              "      <td>1</td>\n",
              "      <td>2</td>\n",
              "      <td>1</td>\n",
              "      <td>0</td>\n",
              "      <td>1</td>\n",
              "      <td>0</td>\n",
              "      <td>0000000</td>\n",
              "      <td>99</td>\n",
              "      <td>99</td>\n",
              "      <td>99</td>\n",
              "      <td>99</td>\n",
              "      <td>88</td>\n",
              "      <td>88</td>\n",
              "      <td>0</td>\n",
              "      <td>0</td>\n",
              "      <td>0</td>\n",
              "      <td>1</td>\n",
              "      <td>0</td>\n",
              "    </tr>\n",
              "    <tr>\n",
              "      <th>3</th>\n",
              "      <td>1</td>\n",
              "      <td>10004</td>\n",
              "      <td>1</td>\n",
              "      <td>1</td>\n",
              "      <td>0</td>\n",
              "      <td>0</td>\n",
              "      <td>0</td>\n",
              "      <td>1</td>\n",
              "      <td>1</td>\n",
              "      <td>73</td>\n",
              "      <td>350</td>\n",
              "      <td>1</td>\n",
              "      <td>1</td>\n",
              "      <td>2017</td>\n",
              "      <td>1</td>\n",
              "      <td>16</td>\n",
              "      <td>55</td>\n",
              "      <td>0</td>\n",
              "      <td>2</td>\n",
              "      <td>4</td>\n",
              "      <td>4</td>\n",
              "      <td>6</td>\n",
              "      <td>20TH ST ENSLEY</td>\n",
              "      <td>AVE I</td>\n",
              "      <td>0</td>\n",
              "      <td>33.510175</td>\n",
              "      <td>-86.894003</td>\n",
              "      <td>0</td>\n",
              "      <td>30</td>\n",
              "      <td>0</td>\n",
              "      <td>0</td>\n",
              "      <td>3</td>\n",
              "      <td>2</td>\n",
              "      <td>0</td>\n",
              "      <td>4</td>\n",
              "      <td>3</td>\n",
              "      <td>2</td>\n",
              "      <td>0</td>\n",
              "      <td>2</td>\n",
              "      <td>0</td>\n",
              "      <td>0000000</td>\n",
              "      <td>99</td>\n",
              "      <td>99</td>\n",
              "      <td>16</td>\n",
              "      <td>58</td>\n",
              "      <td>88</td>\n",
              "      <td>88</td>\n",
              "      <td>20</td>\n",
              "      <td>0</td>\n",
              "      <td>0</td>\n",
              "      <td>1</td>\n",
              "      <td>0</td>\n",
              "    </tr>\n",
              "    <tr>\n",
              "      <th>4</th>\n",
              "      <td>1</td>\n",
              "      <td>10005</td>\n",
              "      <td>1</td>\n",
              "      <td>1</td>\n",
              "      <td>0</td>\n",
              "      <td>0</td>\n",
              "      <td>0</td>\n",
              "      <td>2</td>\n",
              "      <td>2</td>\n",
              "      <td>13</td>\n",
              "      <td>0</td>\n",
              "      <td>1</td>\n",
              "      <td>1</td>\n",
              "      <td>2017</td>\n",
              "      <td>1</td>\n",
              "      <td>20</td>\n",
              "      <td>0</td>\n",
              "      <td>1</td>\n",
              "      <td>1</td>\n",
              "      <td>1</td>\n",
              "      <td>1</td>\n",
              "      <td>1</td>\n",
              "      <td>I-65</td>\n",
              "      <td>NaN</td>\n",
              "      <td>1383</td>\n",
              "      <td>31.947236</td>\n",
              "      <td>-86.556778</td>\n",
              "      <td>0</td>\n",
              "      <td>35</td>\n",
              "      <td>0</td>\n",
              "      <td>0</td>\n",
              "      <td>1</td>\n",
              "      <td>1</td>\n",
              "      <td>0</td>\n",
              "      <td>3</td>\n",
              "      <td>2</td>\n",
              "      <td>2</td>\n",
              "      <td>0</td>\n",
              "      <td>2</td>\n",
              "      <td>0</td>\n",
              "      <td>0000000</td>\n",
              "      <td>20</td>\n",
              "      <td>17</td>\n",
              "      <td>20</td>\n",
              "      <td>31</td>\n",
              "      <td>21</td>\n",
              "      <td>11</td>\n",
              "      <td>0</td>\n",
              "      <td>0</td>\n",
              "      <td>0</td>\n",
              "      <td>1</td>\n",
              "      <td>0</td>\n",
              "    </tr>\n",
              "  </tbody>\n",
              "</table>\n",
              "</div>"
            ],
            "text/plain": [
              "   STATE  ST_CASE  VE_TOTAL  VE_FORMS  ...  CF2  CF3  FATALS  DRUNK_DR\n",
              "0      1    10001         1         1  ...    0    0       1         0\n",
              "1      1    10002         1         1  ...    0    0       1         0\n",
              "2      1    10003         3         3  ...    0    0       1         0\n",
              "3      1    10004         1         1  ...    0    0       1         0\n",
              "4      1    10005         1         1  ...    0    0       1         0\n",
              "\n",
              "[5 rows x 52 columns]"
            ]
          },
          "metadata": {
            "tags": []
          },
          "execution_count": 4
        }
      ]
    },
    {
      "cell_type": "markdown",
      "metadata": {
        "id": "jtLAbs7vMUQB",
        "colab_type": "text"
      },
      "source": [
        "#### There are several variables that are categorical like city state and route identifiers that add no predictive value to the our model.  We have removed the state, state crash ID, City, County, Traffic way ID, and Traffic Way ID#2.  "
      ]
    },
    {
      "cell_type": "code",
      "metadata": {
        "id": "j6-bOyXthG5b",
        "colab_type": "code",
        "colab": {}
      },
      "source": [
        "fars =fars.drop(['STATE', 'ST_CASE', 'CITY', 'COUNTY', 'TWAY_ID', 'TWAY_ID2'], axis = 1)\n"
      ],
      "execution_count": 5,
      "outputs": []
    },
    {
      "cell_type": "markdown",
      "metadata": {
        "id": "lDNbw64dszNx",
        "colab_type": "text"
      },
      "source": [
        "### Evaluation of metric Precursors\n",
        "\n",
        "####  First we will examine \"FATALS\" to see how the number of fatalities reported is distributed.   We will utilize \"FATALS\", \"PERSONS\" and \"PEDS\" to create a ratio of fatalities and the number of individuals involved, this variable will be called  \"fatals_to_pers\".  Since we are interested in a threshold of 50% we will also convert the newly created \"fatals_to_pers\" variable into a binary variable called 'fatal_ratio_great_half'"
      ]
    },
    {
      "cell_type": "code",
      "metadata": {
        "id": "FBZMPuaSLOAp",
        "colab_type": "code",
        "colab": {
          "base_uri": "https://localhost:8080/",
          "height": 157
        },
        "outputId": "f4b57a14-8be6-4c7f-b7be-4303955aa40a"
      },
      "source": [
        "#FATALS is the number of people involved who were reported to have died on the scene or at the hospital. \n",
        "fars.FATALS.value_counts()"
      ],
      "execution_count": 6,
      "outputs": [
        {
          "output_type": "execute_result",
          "data": {
            "text/plain": [
              "1     31913\n",
              "2      1927\n",
              "3       302\n",
              "4        76\n",
              "5        25\n",
              "6         3\n",
              "13        1\n",
              "Name: FATALS, dtype: int64"
            ]
          },
          "metadata": {
            "tags": []
          },
          "execution_count": 6
        }
      ]
    },
    {
      "cell_type": "code",
      "metadata": {
        "id": "3E8Km4FywT4M",
        "colab_type": "code",
        "colab": {
          "base_uri": "https://localhost:8080/",
          "height": 227
        },
        "outputId": "7d6c3d6f-74ec-4a20-ed35-3cdb19a6d729"
      },
      "source": [
        "#PEDS is the number of people not in a motor vehicle that were reported. \n",
        "fars['PEDS'].value_counts()"
      ],
      "execution_count": 7,
      "outputs": [
        {
          "output_type": "execute_result",
          "data": {
            "text/plain": [
              "0     27338\n",
              "1      6513\n",
              "2       319\n",
              "3        44\n",
              "4        15\n",
              "5        12\n",
              "7         2\n",
              "23        1\n",
              "10        1\n",
              "9         1\n",
              "6         1\n",
              "Name: PEDS, dtype: int64"
            ]
          },
          "metadata": {
            "tags": []
          },
          "execution_count": 7
        }
      ]
    },
    {
      "cell_type": "code",
      "metadata": {
        "id": "axy8DfVgwdOd",
        "colab_type": "code",
        "colab": {
          "base_uri": "https://localhost:8080/",
          "height": 577
        },
        "outputId": "65ba0545-f928-4e5b-f97d-fe0a7e0617c3"
      },
      "source": [
        "# PERSONS is the number of people in a motor vehicle (moving or parked) that were reported\n",
        "fars['PERSONS'].value_counts()"
      ],
      "execution_count": 8,
      "outputs": [
        {
          "output_type": "execute_result",
          "data": {
            "text/plain": [
              "1     14171\n",
              "2      9598\n",
              "3      4949\n",
              "4      2499\n",
              "5      1365\n",
              "6       706\n",
              "7       391\n",
              "8       213\n",
              "9       114\n",
              "10       75\n",
              "11       39\n",
              "0        35\n",
              "12       25\n",
              "13       13\n",
              "16       10\n",
              "14        9\n",
              "15        8\n",
              "17        7\n",
              "18        3\n",
              "19        3\n",
              "20        3\n",
              "24        2\n",
              "42        1\n",
              "47        1\n",
              "48        1\n",
              "40        1\n",
              "26        1\n",
              "50        1\n",
              "21        1\n",
              "23        1\n",
              "29        1\n",
              "Name: PERSONS, dtype: int64"
            ]
          },
          "metadata": {
            "tags": []
          },
          "execution_count": 8
        }
      ]
    },
    {
      "cell_type": "code",
      "metadata": {
        "id": "I2YcWmZqPQOA",
        "colab_type": "code",
        "colab": {}
      },
      "source": [
        "fars['total_pers_involved'] = fars['PEDS'] + fars['PERSONS']"
      ],
      "execution_count": 9,
      "outputs": []
    },
    {
      "cell_type": "code",
      "metadata": {
        "id": "5-ED82slPlrh",
        "colab_type": "code",
        "colab": {}
      },
      "source": [
        "fars['fatals_to_pers_'] = fars['FATALS'] / fars['total_pers_involved']"
      ],
      "execution_count": 10,
      "outputs": []
    },
    {
      "cell_type": "code",
      "metadata": {
        "id": "J3G6FTBDQLSP",
        "colab_type": "code",
        "colab": {}
      },
      "source": [
        "#fars['fatals_to_pers_'].value_counts()"
      ],
      "execution_count": 11,
      "outputs": []
    },
    {
      "cell_type": "code",
      "metadata": {
        "id": "PWEwhlt0RIjY",
        "colab_type": "code",
        "colab": {
          "base_uri": "https://localhost:8080/",
          "height": 285
        },
        "outputId": "40505ffc-2c4d-40e7-832b-deefcece1ebe"
      },
      "source": [
        "sns.distplot(fars['fatals_to_pers_'], bins=10)\n",
        "plt.show()"
      ],
      "execution_count": 12,
      "outputs": [
        {
          "output_type": "display_data",
          "data": {
            "image/png": "[encoded data removed]",
            "text/plain": [
              "<Figure size 432x288 with 1 Axes>"
            ]
          },
          "metadata": {
            "tags": [],
            "needs_background": "light"
          }
        }
      ]
    },
    {
      "cell_type": "markdown",
      "metadata": {
        "id": "gU28DxxThVQV",
        "colab_type": "text"
      },
      "source": [
        "#### 12,971  fatal accidents had 50% of the individuals involved die.  \n",
        "\n",
        "#### 10,615 fatal accidents had less than 50% of the individuals involved die. \n",
        "\n",
        "#### 10,661 fatal accidents had over 50% of individuals involved die. "
      ]
    },
    {
      "cell_type": "code",
      "metadata": {
        "id": "DBBvJfk8doTn",
        "colab_type": "code",
        "colab": {
          "base_uri": "https://localhost:8080/",
          "height": 34
        },
        "outputId": "bf50df48-80e7-4809-e16e-0eadfd952e1b"
      },
      "source": [
        "# all three values can be obtained by changing the bolean portion of this code between '==','<','>'\n",
        "fars['fatals_to_pers_'].loc[np.where((fars['fatals_to_pers_'])==.5)].count()"
      ],
      "execution_count": 13,
      "outputs": [
        {
          "output_type": "execute_result",
          "data": {
            "text/plain": [
              "12971"
            ]
          },
          "metadata": {
            "tags": []
          },
          "execution_count": 13
        }
      ]
    },
    {
      "cell_type": "code",
      "metadata": {
        "id": "kPusGgpQTJEa",
        "colab_type": "code",
        "colab": {}
      },
      "source": [
        "fars['fatal_ratio_great_half'] = fars['fatals_to_pers_'].apply(lambda x: x > .5)*1"
      ],
      "execution_count": 14,
      "outputs": []
    },
    {
      "cell_type": "code",
      "metadata": {
        "id": "gWEMpzBpasyC",
        "colab_type": "code",
        "colab": {
          "base_uri": "https://localhost:8080/",
          "height": 359
        },
        "outputId": "d31f38eb-0c52-47cf-9720-559321e1021b"
      },
      "source": [
        "fars.loc[0:, 'fatals_to_pers_':'fatal_ratio_great_half'].head(10)"
      ],
      "execution_count": 15,
      "outputs": [
        {
          "output_type": "execute_result",
          "data": {
            "text/html": [
              "<div>\n",
              "<style scoped>\n",
              "    .dataframe tbody tr th:only-of-type {\n",
              "        vertical-align: middle;\n",
              "    }\n",
              "\n",
              "    .dataframe tbody tr th {\n",
              "        vertical-align: top;\n",
              "    }\n",
              "\n",
              "    .dataframe thead th {\n",
              "        text-align: right;\n",
              "    }\n",
              "</style>\n",
              "<table border=\"1\" class=\"dataframe\">\n",
              "  <thead>\n",
              "    <tr style=\"text-align: right;\">\n",
              "      <th></th>\n",
              "      <th>fatals_to_pers_</th>\n",
              "      <th>fatal_ratio_great_half</th>\n",
              "    </tr>\n",
              "  </thead>\n",
              "  <tbody>\n",
              "    <tr>\n",
              "      <th>0</th>\n",
              "      <td>1.000000</td>\n",
              "      <td>1</td>\n",
              "    </tr>\n",
              "    <tr>\n",
              "      <th>1</th>\n",
              "      <td>1.000000</td>\n",
              "      <td>1</td>\n",
              "    </tr>\n",
              "    <tr>\n",
              "      <th>2</th>\n",
              "      <td>0.333333</td>\n",
              "      <td>0</td>\n",
              "    </tr>\n",
              "    <tr>\n",
              "      <th>3</th>\n",
              "      <td>1.000000</td>\n",
              "      <td>1</td>\n",
              "    </tr>\n",
              "    <tr>\n",
              "      <th>4</th>\n",
              "      <td>0.500000</td>\n",
              "      <td>0</td>\n",
              "    </tr>\n",
              "    <tr>\n",
              "      <th>5</th>\n",
              "      <td>0.250000</td>\n",
              "      <td>0</td>\n",
              "    </tr>\n",
              "    <tr>\n",
              "      <th>6</th>\n",
              "      <td>0.500000</td>\n",
              "      <td>0</td>\n",
              "    </tr>\n",
              "    <tr>\n",
              "      <th>7</th>\n",
              "      <td>1.000000</td>\n",
              "      <td>1</td>\n",
              "    </tr>\n",
              "    <tr>\n",
              "      <th>8</th>\n",
              "      <td>1.000000</td>\n",
              "      <td>1</td>\n",
              "    </tr>\n",
              "    <tr>\n",
              "      <th>9</th>\n",
              "      <td>0.500000</td>\n",
              "      <td>0</td>\n",
              "    </tr>\n",
              "  </tbody>\n",
              "</table>\n",
              "</div>"
            ],
            "text/plain": [
              "   fatals_to_pers_  fatal_ratio_great_half\n",
              "0         1.000000                       1\n",
              "1         1.000000                       1\n",
              "2         0.333333                       0\n",
              "3         1.000000                       1\n",
              "4         0.500000                       0\n",
              "5         0.250000                       0\n",
              "6         0.500000                       0\n",
              "7         1.000000                       1\n",
              "8         1.000000                       1\n",
              "9         0.500000                       0"
            ]
          },
          "metadata": {
            "tags": []
          },
          "execution_count": 15
        }
      ]
    },
    {
      "cell_type": "code",
      "metadata": {
        "id": "yTH6aFyYjMl6",
        "colab_type": "code",
        "colab": {
          "base_uri": "https://localhost:8080/",
          "height": 297
        },
        "outputId": "ea66ad34-3bc5-4084-ca5e-8dca604e762a"
      },
      "source": [
        "fars.loc[0:, 'fatals_to_pers_':'fatal_ratio_great_half'].describe()"
      ],
      "execution_count": 16,
      "outputs": [
        {
          "output_type": "execute_result",
          "data": {
            "text/html": [
              "<div>\n",
              "<style scoped>\n",
              "    .dataframe tbody tr th:only-of-type {\n",
              "        vertical-align: middle;\n",
              "    }\n",
              "\n",
              "    .dataframe tbody tr th {\n",
              "        vertical-align: top;\n",
              "    }\n",
              "\n",
              "    .dataframe thead th {\n",
              "        text-align: right;\n",
              "    }\n",
              "</style>\n",
              "<table border=\"1\" class=\"dataframe\">\n",
              "  <thead>\n",
              "    <tr style=\"text-align: right;\">\n",
              "      <th></th>\n",
              "      <th>fatals_to_pers_</th>\n",
              "      <th>fatal_ratio_great_half</th>\n",
              "    </tr>\n",
              "  </thead>\n",
              "  <tbody>\n",
              "    <tr>\n",
              "      <th>count</th>\n",
              "      <td>34247.000000</td>\n",
              "      <td>34247.000000</td>\n",
              "    </tr>\n",
              "    <tr>\n",
              "      <th>mean</th>\n",
              "      <td>0.578684</td>\n",
              "      <td>0.311297</td>\n",
              "    </tr>\n",
              "    <tr>\n",
              "      <th>std</th>\n",
              "      <td>0.289706</td>\n",
              "      <td>0.463031</td>\n",
              "    </tr>\n",
              "    <tr>\n",
              "      <th>min</th>\n",
              "      <td>0.020833</td>\n",
              "      <td>0.000000</td>\n",
              "    </tr>\n",
              "    <tr>\n",
              "      <th>25%</th>\n",
              "      <td>0.333333</td>\n",
              "      <td>0.000000</td>\n",
              "    </tr>\n",
              "    <tr>\n",
              "      <th>50%</th>\n",
              "      <td>0.500000</td>\n",
              "      <td>0.000000</td>\n",
              "    </tr>\n",
              "    <tr>\n",
              "      <th>75%</th>\n",
              "      <td>1.000000</td>\n",
              "      <td>1.000000</td>\n",
              "    </tr>\n",
              "    <tr>\n",
              "      <th>max</th>\n",
              "      <td>1.000000</td>\n",
              "      <td>1.000000</td>\n",
              "    </tr>\n",
              "  </tbody>\n",
              "</table>\n",
              "</div>"
            ],
            "text/plain": [
              "       fatals_to_pers_  fatal_ratio_great_half\n",
              "count     34247.000000            34247.000000\n",
              "mean          0.578684                0.311297\n",
              "std           0.289706                0.463031\n",
              "min           0.020833                0.000000\n",
              "25%           0.333333                0.000000\n",
              "50%           0.500000                0.000000\n",
              "75%           1.000000                1.000000\n",
              "max           1.000000                1.000000"
            ]
          },
          "metadata": {
            "tags": []
          },
          "execution_count": 16
        }
      ]
    },
    {
      "cell_type": "markdown",
      "metadata": {
        "id": "VZS9Z6Uu0sFU",
        "colab_type": "text"
      },
      "source": [
        "### Resulting Metric: \n",
        "\n",
        "#### WE now have the variable 'fatal_ratio_great_half' which we will use as our metric for our project."
      ]
    },
    {
      "cell_type": "code",
      "metadata": {
        "id": "6tHy2oQAaSkw",
        "colab_type": "code",
        "colab": {}
      },
      "source": [
        "#fars['fatal_ratio_great_half'].head(30)"
      ],
      "execution_count": 17,
      "outputs": []
    },
    {
      "cell_type": "code",
      "metadata": {
        "id": "F4p5JI3UczPp",
        "colab_type": "code",
        "colab": {
          "base_uri": "https://localhost:8080/",
          "height": 69
        },
        "outputId": "82cecc3d-9555-40a6-c61a-3cb3b457da93"
      },
      "source": [
        "fars['fatal_ratio_great_half'].value_counts()"
      ],
      "execution_count": 18,
      "outputs": [
        {
          "output_type": "execute_result",
          "data": {
            "text/plain": [
              "0    23586\n",
              "1    10661\n",
              "Name: fatal_ratio_great_half, dtype: int64"
            ]
          },
          "metadata": {
            "tags": []
          },
          "execution_count": 18
        }
      ]
    },
    {
      "cell_type": "code",
      "metadata": {
        "id": "JyUKPFZ8UmmQ",
        "colab_type": "code",
        "colab": {
          "base_uri": "https://localhost:8080/",
          "height": 302
        },
        "outputId": "209ca736-ac5a-421b-c471-7ff17bd79759"
      },
      "source": [
        "sns.distplot(fars['fatal_ratio_great_half'])"
      ],
      "execution_count": 19,
      "outputs": [
        {
          "output_type": "execute_result",
          "data": {
            "text/plain": [
              "<matplotlib.axes._subplots.AxesSubplot at 0x7fd1479a0ef0>"
            ]
          },
          "metadata": {
            "tags": []
          },
          "execution_count": 19
        },
        {
          "output_type": "display_data",
          "data": {
            "image/png": "[encoded data removed]",
            "text/plain": [
              "<Figure size 432x288 with 1 Axes>"
            ]
          },
          "metadata": {
            "tags": [],
            "needs_background": "light"
          }
        }
      ]
    },
    {
      "cell_type": "markdown",
      "metadata": {
        "id": "jSszubvFjxFq",
        "colab_type": "text"
      },
      "source": [
        "#### Removing the fields that we utilized as part of the calculation for the metric variable. "
      ]
    },
    {
      "cell_type": "code",
      "metadata": {
        "id": "9Fbs812pAJ6g",
        "colab_type": "code",
        "colab": {}
      },
      "source": [
        "fars = fars.drop(['PEDS', 'FATALS', 'PERSONS', 'PERNOTMVIT', 'PERMVIT'],axis = 1)"
      ],
      "execution_count": 20,
      "outputs": []
    },
    {
      "cell_type": "markdown",
      "metadata": {
        "id": "tnR1IjqRkNxo",
        "colab_type": "text"
      },
      "source": [
        "#### Converting a categorical variable tracking the exact railroad crossing associated with the accident, if any or known, into a variable that indicates if there was a railroad crossing or not. "
      ]
    },
    {
      "cell_type": "code",
      "metadata": {
        "id": "4Jsc6K5MsLb9",
        "colab_type": "code",
        "colab": {}
      },
      "source": [
        "for i in range(0,len(fars['RAIL'])):\n",
        "  if (fars['RAIL'][i]) == '0000000' or (fars['RAIL'][i]) == '9999999':\n",
        "    fars.at[i,'RAIL']= 0\n",
        "  else: \n",
        "    fars.at[i,'RAIL']= 1\n",
        "    \n",
        "fars['RAIL'] =fars['RAIL'].astype('int')   \n",
        "    \n",
        "    \n",
        "\n"
      ],
      "execution_count": 21,
      "outputs": []
    },
    {
      "cell_type": "code",
      "metadata": {
        "id": "f-Jp7i6U6ZAU",
        "colab_type": "code",
        "colab": {
          "base_uri": "https://localhost:8080/",
          "height": 69
        },
        "outputId": "6c587611-df54-4d11-9b2f-41d53d670c94"
      },
      "source": [
        "fars['RAIL'].value_counts()"
      ],
      "execution_count": 22,
      "outputs": [
        {
          "output_type": "execute_result",
          "data": {
            "text/plain": [
              "0    34127\n",
              "1      120\n",
              "Name: RAIL, dtype: int64"
            ]
          },
          "metadata": {
            "tags": []
          },
          "execution_count": 22
        }
      ]
    },
    {
      "cell_type": "markdown",
      "metadata": {
        "id": "13PEBQCHk6k-",
        "colab_type": "text"
      },
      "source": [
        "#### Checking to make sure all variables are now integers or floats to accomodate machine learning models. "
      ]
    },
    {
      "cell_type": "code",
      "metadata": {
        "id": "ZmSW5PdOqwDF",
        "colab_type": "code",
        "colab": {
          "base_uri": "https://localhost:8080/",
          "height": 909
        },
        "outputId": "acf505a6-3b0b-4da1-debf-7b25393f3ca0"
      },
      "source": [
        "fars.info()"
      ],
      "execution_count": 23,
      "outputs": [
        {
          "output_type": "stream",
          "text": [
            "<class 'pandas.core.frame.DataFrame'>\n",
            "RangeIndex: 34247 entries, 0 to 34246\n",
            "Data columns (total 44 columns):\n",
            " #   Column                  Non-Null Count  Dtype  \n",
            "---  ------                  --------------  -----  \n",
            " 0   VE_TOTAL                34247 non-null  int64  \n",
            " 1   VE_FORMS                34247 non-null  int64  \n",
            " 2   PVH_INVL                34247 non-null  int64  \n",
            " 3   DAY                     34247 non-null  int64  \n",
            " 4   MONTH                   34247 non-null  int64  \n",
            " 5   YEAR                    34247 non-null  int64  \n",
            " 6   DAY_WEEK                34247 non-null  int64  \n",
            " 7   HOUR                    34247 non-null  int64  \n",
            " 8   MINUTE                  34247 non-null  int64  \n",
            " 9   NHS                     34247 non-null  int64  \n",
            " 10  RUR_URB                 34247 non-null  int64  \n",
            " 11  FUNC_SYS                34247 non-null  int64  \n",
            " 12  RD_OWNER                34247 non-null  int64  \n",
            " 13  ROUTE                   34247 non-null  int64  \n",
            " 14  MILEPT                  34247 non-null  int64  \n",
            " 15  LATITUDE                34247 non-null  float64\n",
            " 16  LONGITUD                34247 non-null  float64\n",
            " 17  SP_JUR                  34247 non-null  int64  \n",
            " 18  HARM_EV                 34247 non-null  int64  \n",
            " 19  MAN_COLL                34247 non-null  int64  \n",
            " 20  RELJCT1                 34247 non-null  int64  \n",
            " 21  RELJCT2                 34247 non-null  int64  \n",
            " 22  TYP_INT                 34247 non-null  int64  \n",
            " 23  WRK_ZONE                34247 non-null  int64  \n",
            " 24  REL_ROAD                34247 non-null  int64  \n",
            " 25  LGT_COND                34247 non-null  int64  \n",
            " 26  WEATHER1                34247 non-null  int64  \n",
            " 27  WEATHER2                34247 non-null  int64  \n",
            " 28  WEATHER                 34247 non-null  int64  \n",
            " 29  SCH_BUS                 34247 non-null  int64  \n",
            " 30  RAIL                    34247 non-null  int64  \n",
            " 31  NOT_HOUR                34247 non-null  int64  \n",
            " 32  NOT_MIN                 34247 non-null  int64  \n",
            " 33  ARR_HOUR                34247 non-null  int64  \n",
            " 34  ARR_MIN                 34247 non-null  int64  \n",
            " 35  HOSP_HR                 34247 non-null  int64  \n",
            " 36  HOSP_MN                 34247 non-null  int64  \n",
            " 37  CF1                     34247 non-null  int64  \n",
            " 38  CF2                     34247 non-null  int64  \n",
            " 39  CF3                     34247 non-null  int64  \n",
            " 40  DRUNK_DR                34247 non-null  int64  \n",
            " 41  total_pers_involved     34247 non-null  int64  \n",
            " 42  fatals_to_pers_         34247 non-null  float64\n",
            " 43  fatal_ratio_great_half  34247 non-null  int64  \n",
            "dtypes: float64(3), int64(41)\n",
            "memory usage: 11.5 MB\n"
          ],
          "name": "stdout"
        }
      ]
    },
    {
      "cell_type": "markdown",
      "metadata": {
        "id": "Wz2CvTfMlKp5",
        "colab_type": "text"
      },
      "source": [
        "#### A function has been created to allow for finetuning of features based on correlation with each other. "
      ]
    },
    {
      "cell_type": "code",
      "metadata": {
        "id": "pqnp1-N-5NqO",
        "colab_type": "code",
        "colab": {}
      },
      "source": [
        "def corr_dataframe(dataframe,decimal_percentage):\n",
        "  correlated_features = set()  \n",
        "  correlation_matrix = dataframe.corr()\n",
        "  for i in range(len(correlation_matrix .columns)):  \n",
        "      for j in range(i):\n",
        "          if abs(correlation_matrix.iloc[i, j]) < decimal_percentage and i!= j:\n",
        "              colname = correlation_matrix.columns[i]\n",
        "              correlated_features.add(colname)\n",
        "  #print(correlation_matrix)\n",
        "  print(\"the dimensions of the dataframe are:{} when we set the precentage to %{}\".format(dataframe.shape,decimal_percentage*100))\n",
        "  print(correlated_features) \n",
        "  print(len(correlated_features))\n",
        "  return correlated_features"
      ],
      "execution_count": 24,
      "outputs": []
    },
    {
      "cell_type": "markdown",
      "metadata": {
        "id": "xsjFb1S1ygxh",
        "colab_type": "text"
      },
      "source": [
        "#### Created a ten fold split in data to allow for a more robust cross validation for all models used"
      ]
    },
    {
      "cell_type": "code",
      "metadata": {
        "id": "KXr83-FwTpfl",
        "colab_type": "code",
        "colab": {}
      },
      "source": [
        "kfolds = StratifiedShuffleSplit(n_splits =10, random_state=1)"
      ],
      "execution_count": 25,
      "outputs": []
    },
    {
      "cell_type": "markdown",
      "metadata": {
        "id": "i1ZY3-F9yxVT",
        "colab_type": "text"
      },
      "source": [
        "#### An RFECV (recursive feature elimination and cross-validated selection) as another method of choosing features to exclude from the models to help eliminate noise from the model. This function has a very high computational cost and was not used in the end but is included for use or alteration should the stakeholders decide that a higher accuracy or other measure was wanted.  "
      ]
    },
    {
      "cell_type": "code",
      "metadata": {
        "id": "LV2CK6oYTLz5",
        "colab_type": "code",
        "colab": {
          "base_uri": "https://localhost:8080/",
          "height": 52
        },
        "outputId": "636e850e-06d5-48be-cedc-779a6d7adf3a"
      },
      "source": [
        "%%time\n",
        "#estimator = SVR(kernel=\"linear\")\n",
        "\n",
        "#selector = RFECV(estimator, step=1, cv=kfolds)\n",
        "#selector.fit(fars.drop(['VE_TOTAL_of1'], axis=1),fars['VE_TOTAL_of1'])\n",
        "#selector.support_ "
      ],
      "execution_count": 26,
      "outputs": [
        {
          "output_type": "stream",
          "text": [
            "CPU times: user 3 µs, sys: 0 ns, total: 3 µs\n",
            "Wall time: 7.15 µs\n"
          ],
          "name": "stdout"
        }
      ]
    },
    {
      "cell_type": "code",
      "metadata": {
        "id": "3ZpWC03qMSPa",
        "colab_type": "code",
        "colab": {
          "base_uri": "https://localhost:8080/",
          "height": 34
        },
        "outputId": "0539b99a-2753-4b34-a120-0bcf286512f6"
      },
      "source": [
        "X = fars.drop(['fatal_ratio_great_half'],axis =1)\n",
        "y = fars['fatal_ratio_great_half'] \n",
        "y.shape\n",
        "print (X.shape)"
      ],
      "execution_count": 27,
      "outputs": [
        {
          "output_type": "stream",
          "text": [
            "(34247, 43)\n"
          ],
          "name": "stdout"
        }
      ]
    },
    {
      "cell_type": "markdown",
      "metadata": {
        "id": "_bYNQJkL0Fy7",
        "colab_type": "text"
      },
      "source": [
        "#### We will utilize a Random Forest Classifier to determine which features will best help our models.  We will also run a seperate Random Forest algorithm as a comparison for the logistic regression, ridge and lasso algorithms. "
      ]
    },
    {
      "cell_type": "code",
      "metadata": {
        "id": "qyUOMRvJB0rf",
        "colab_type": "code",
        "colab": {
          "base_uri": "https://localhost:8080/",
          "height": 157
        },
        "outputId": "83d31d27-8f7b-46d4-801d-0b7cb1bddf25"
      },
      "source": [
        "\n",
        "\n",
        "rfc = ensemble.RandomForestClassifier() \n",
        "\n",
        " \n",
        "# define random forest classifier, with utilising all cores and\n",
        "# sampling in proportion to y labels\n",
        "forest = RandomForestClassifier(n_jobs=-1, class_weight='balanced', max_depth=7, random_state = 1)\n",
        " \n",
        "forest.fit(X,y)"
      ],
      "execution_count": 28,
      "outputs": [
        {
          "output_type": "execute_result",
          "data": {
            "text/plain": [
              "RandomForestClassifier(bootstrap=True, ccp_alpha=0.0, class_weight='balanced',\n",
              "                       criterion='gini', max_depth=7, max_features='auto',\n",
              "                       max_leaf_nodes=None, max_samples=None,\n",
              "                       min_impurity_decrease=0.0, min_impurity_split=None,\n",
              "                       min_samples_leaf=1, min_samples_split=2,\n",
              "                       min_weight_fraction_leaf=0.0, n_estimators=100,\n",
              "                       n_jobs=-1, oob_score=False, random_state=1, verbose=0,\n",
              "                       warm_start=False)"
            ]
          },
          "metadata": {
            "tags": []
          },
          "execution_count": 28
        }
      ]
    },
    {
      "cell_type": "code",
      "metadata": {
        "id": "2mj5SqwnVArr",
        "colab_type": "code",
        "colab": {
          "base_uri": "https://localhost:8080/",
          "height": 34
        },
        "outputId": "c1bbd4f5-48af-4673-e4ab-cf9ec91cc2da"
      },
      "source": [
        "\n",
        "forest.feature_importances_\n",
        "forest.score(X,y)"
      ],
      "execution_count": 29,
      "outputs": [
        {
          "output_type": "execute_result",
          "data": {
            "text/plain": [
              "1.0"
            ]
          },
          "metadata": {
            "tags": []
          },
          "execution_count": 29
        }
      ]
    },
    {
      "cell_type": "code",
      "metadata": {
        "id": "bqsn3PCO5YuT",
        "colab_type": "code",
        "colab": {
          "base_uri": "https://localhost:8080/",
          "height": 34
        },
        "outputId": "a0dfc5bd-c23a-400f-f012-2cabcd99f735"
      },
      "source": [
        "fars.shape[1]"
      ],
      "execution_count": 30,
      "outputs": [
        {
          "output_type": "execute_result",
          "data": {
            "text/plain": [
              "44"
            ]
          },
          "metadata": {
            "tags": []
          },
          "execution_count": 30
        }
      ]
    },
    {
      "cell_type": "markdown",
      "metadata": {
        "id": "Hn2yC1Fs0-ll",
        "colab_type": "text"
      },
      "source": [
        "### Feature Importance:\n",
        "#### We now have a list and a graph of the features that the Random Forest Model calculated to be the most important in predicting the target values for our metric."
      ]
    },
    {
      "cell_type": "code",
      "metadata": {
        "id": "wUE7aiyPMegF",
        "colab_type": "code",
        "colab": {}
      },
      "source": [
        "%%time\n",
        "forest = RandomForestClassifier(n_jobs=-1, class_weight='balanced', max_depth=7, random_state = 1)\n",
        " \n",
        "forest.fit(X,y)\n",
        "\n",
        "\n",
        "importances = forest.feature_importances_\n",
        "std = np.std([forest.feature_importances_ for tree in forest.estimators_],\n",
        "             axis=0)\n",
        "\n",
        "indices = np.argsort(importances)[::-1]\n",
        "imp_feat = []\n",
        "print(\"Top Ten Feature Ranking:\")\n",
        "\n",
        "for f in range(X.shape[1]):\n",
        "    imp_feat.append(fars.columns[f])\n",
        "for f in range (0,10):\n",
        "    print(\"{}. {} ({})\".format(f + 1, fars.columns[f], importances[indices[f]]))\n",
        "\n",
        "# Plot the feature importances of the forest\n",
        "plt.figure()\n",
        "plt.title(\"Feature importances\")\n",
        "plt.bar(range(0,10), importances[indices][:10],\n",
        "       color=\"r\", yerr=std[indices][:10], align=\"center\")\n",
        "plt.xticks(range(0,10), indices[:10])\n",
        "plt.xlim([-1, 10])\n",
        "plt.show()"
      ],
      "execution_count": null,
      "outputs": []
    },
    {
      "cell_type": "markdown",
      "metadata": {
        "id": "NAZCqM1g7gVd",
        "colab_type": "text"
      },
      "source": [
        "### Target Metric vs. Selected features\n",
        "\n",
        "#### For each feature a scatter plot against the target metric reveals how the target metric is related to the feature. \n"
      ]
    },
    {
      "cell_type": "code",
      "metadata": {
        "id": "BPbApZm5QtYm",
        "colab_type": "code",
        "colab": {}
      },
      "source": [
        "feat_imp =imp_feat[:10]\n",
        "\n",
        "fars_feat = fars[feat_imp]\n"
      ],
      "execution_count": null,
      "outputs": []
    },
    {
      "cell_type": "code",
      "metadata": {
        "id": "oy_8DO6USVY1",
        "colab_type": "code",
        "colab": {}
      },
      "source": [
        "%%time\n",
        "\n",
        "plt.figure(figsize=(15,5))\n",
        "for item in fars_feat.columns:\n",
        "  plt.figure(figsize=(15,5))\n",
        "  sns.scatterplot(x =fars_feat[item], y = fars['fatals_to_pers_'])\n",
        "  plt.title(item)\n",
        "  plt.show()\n",
        "\n"
      ],
      "execution_count": null,
      "outputs": []
    },
    {
      "cell_type": "code",
      "metadata": {
        "id": "m1N6kzADZmW9",
        "colab_type": "code",
        "colab": {}
      },
      "source": [
        "fars_feat.NHS.value_counts()"
      ],
      "execution_count": null,
      "outputs": []
    },
    {
      "cell_type": "markdown",
      "metadata": {
        "id": "rD4X_PhK4pFC",
        "colab_type": "text"
      },
      "source": [
        "### Variance\n",
        "\n",
        "#### We do have a large amount of variance in our feaures so we will apply a min/max scaler.  Logistic regression and many other algorithms perform better if the features are similar in their range of their values.  "
      ]
    },
    {
      "cell_type": "code",
      "metadata": {
        "id": "siFfjc_a6SD4",
        "colab_type": "code",
        "colab": {}
      },
      "source": [
        "fars_feat.var()"
      ],
      "execution_count": null,
      "outputs": []
    },
    {
      "cell_type": "code",
      "metadata": {
        "id": "Q8DCxz4pHO1h",
        "colab_type": "code",
        "colab": {}
      },
      "source": [
        "scaler = MinMaxScaler(copy=True, feature_range=(0, 1))\n",
        "fars_feat_scal = scaler.fit_transform(fars_feat)"
      ],
      "execution_count": null,
      "outputs": []
    },
    {
      "cell_type": "code",
      "metadata": {
        "id": "70uL_4LCuLTz",
        "colab_type": "code",
        "colab": {}
      },
      "source": [
        "fars_feat_scal.shape\n"
      ],
      "execution_count": null,
      "outputs": []
    },
    {
      "cell_type": "markdown",
      "metadata": {
        "id": "1OZx-EmVqihN",
        "colab_type": "text"
      },
      "source": [
        "#### Testing how the correlation of features after determining their importance in calculating the primary metric, the outcomes using less than 50% correlated (7 feature left), 10% correlated (7 features left), 5% correlated (7 features left), 1% correleated (6 features left) were generated.  For our model we attempted to utilize the 1% list, the 50% list and .05% list.  For each of the four models we chose using the correlation lists resulted in lower recall for . "
      ]
    },
    {
      "cell_type": "code",
      "metadata": {
        "id": "dbuzYIQu-3nC",
        "colab_type": "code",
        "colab": {}
      },
      "source": [
        "#corrlist_1_per =list(corr_dataframe(fars_feat_scaldf,.01))\n",
        "#corrlist_50_per =list(corr_dataframe(fars_feat_scaldf,.5))\n",
        "#corrlist_p05_per =list(corr_dataframe(fars_feat_scaldf,.0005))"
      ],
      "execution_count": null,
      "outputs": []
    },
    {
      "cell_type": "code",
      "metadata": {
        "id": "ULxuHX7-EDrg",
        "colab_type": "code",
        "colab": {}
      },
      "source": [
        "#data_corr = fars_feat_scaldf[corrlist_p05_per]\n",
        "#data_corr_all = fars_feat_scal[corrlist_p05_per]"
      ],
      "execution_count": null,
      "outputs": []
    },
    {
      "cell_type": "markdown",
      "metadata": {
        "id": "5ZuSfakVF301",
        "colab_type": "text"
      },
      "source": [
        "### Training and Testing\n",
        "\n",
        "#### The data is then split into 80% training and 20% testing to allow for more reliable results. \n",
        "\n"
      ]
    },
    {
      "cell_type": "code",
      "metadata": {
        "id": "0ZFPDCv4kuhc",
        "colab_type": "code",
        "colab": {}
      },
      "source": [
        "X_train, X_test, y_train, y_test = train_test_split(fars_feat_scal, y, test_size=0.2, random_state=1)"
      ],
      "execution_count": null,
      "outputs": []
    },
    {
      "cell_type": "markdown",
      "metadata": {
        "id": "z0TwBgQyGxqZ",
        "colab_type": "text"
      },
      "source": [
        "### Random Forest: Cross Validation and Kfolds"
      ]
    },
    {
      "cell_type": "code",
      "metadata": {
        "id": "cURvDTnFnOEJ",
        "colab_type": "code",
        "colab": {}
      },
      "source": [
        "kfolds = StratifiedShuffleSplit(n_splits =5, random_state=1)"
      ],
      "execution_count": null,
      "outputs": []
    },
    {
      "cell_type": "code",
      "metadata": {
        "id": "rAfEk0Qyqwhm",
        "colab_type": "code",
        "colab": {}
      },
      "source": [
        "forest = RandomForestClassifier( n_jobs=-1, class_weight='balanced', n_estimators = 500, max_features = 7, max_depth=12, random_state = 1)\n",
        "\n",
        "print(cross_val_score(forest,X_train, y_train, cv=kfolds, scoring = 'recall', verbose = 1))\n",
        "pred_y_sklearn =cross_val_predict(forest, X_test, y_test, cv=10)\n",
        "y_true = y_test\n",
        "y_pred = cross_val_predict(forest, X_test, y_test, cv=10)\n",
        "print('\\n Confusion Matrix')\n",
        "#print(\\n confusion_matrix(y_pred, y_true))\n",
        "print(pd.crosstab(pred_y_sklearn, y_test))\n",
        "print(\"\")\n",
        "print(classification_report(y_pred, y_true))"
      ],
      "execution_count": null,
      "outputs": []
    },
    {
      "cell_type": "markdown",
      "metadata": {
        "id": "A-IKQU1qfDnN",
        "colab_type": "text"
      },
      "source": [
        "#### looking at the split of the data we can see there is a ratio of 1:2 "
      ]
    },
    {
      "cell_type": "code",
      "metadata": {
        "id": "AubFuzjjuxWQ",
        "colab_type": "code",
        "colab": {}
      },
      "source": [
        "y.value_counts()"
      ],
      "execution_count": null,
      "outputs": []
    },
    {
      "cell_type": "code",
      "metadata": {
        "id": "UandW0PMZ7KF",
        "colab_type": "code",
        "colab": {}
      },
      "source": [
        "clf = LogisticRegressionCV(Cs =1, cv=kfolds, random_state =1, max_iter = 1000, class_weight ='balanced',scoring='recall')\n",
        "clf_lasso = LogisticRegressionCV(Cs =1, cv=kfolds, random_state =1, max_iter = 1000, penalty='l2', class_weight='balanced', scoring='recall')\n",
        "forest = RandomForestClassifier(n_jobs=-1, class_weight='balanced', random_state = 1)\n",
        "\n",
        "\n"
      ],
      "execution_count": null,
      "outputs": []
    },
    {
      "cell_type": "code",
      "metadata": {
        "id": "T8iWbhOvIXJD",
        "colab_type": "code",
        "colab": {}
      },
      "source": [
        "%%time\n",
        "parameters = {'max_depth': [3,6,7], 'n_estimators' : [50, 150, 200], 'max_features' : [7]}\n",
        " \n",
        "forest_grid = GridSearchCV(forest, parameters, cv=kfolds, scoring='recall')\n",
        "forest_grid.fit(X_train, y_train)"
      ],
      "execution_count": null,
      "outputs": []
    },
    {
      "cell_type": "markdown",
      "metadata": {
        "id": "uDKqQPFXgG3I",
        "colab_type": "text"
      },
      "source": [
        "## Random Forest with cross validation and Kfolds\n",
        "\n",
        "#### Using gridsearch the best parameters for the Random Forest algorithm have been determined and utilized.  "
      ]
    },
    {
      "cell_type": "code",
      "metadata": {
        "id": "nsQcbeEZanqD",
        "colab_type": "code",
        "colab": {}
      },
      "source": [
        "forest_grid.best_params_"
      ],
      "execution_count": null,
      "outputs": []
    },
    {
      "cell_type": "code",
      "metadata": {
        "id": "CSQGhk39SlB4",
        "colab_type": "code",
        "colab": {}
      },
      "source": [
        "%%time\n",
        "print(cross_val_score(forest_grid,X_train, y_train, cv=kfolds))\n"
      ],
      "execution_count": null,
      "outputs": []
    },
    {
      "cell_type": "code",
      "metadata": {
        "id": "KdDkLXM93bVJ",
        "colab_type": "code",
        "colab": {}
      },
      "source": [
        "%%time\n",
        "y_true = y_test\n",
        "y_pred = cross_val_predict(forest_grid, X_test, y_test, cv=10)\n",
        "print('\\n Confusion Matrix')\n",
        "#print(\\n confusion_matrix(y_pred, y_true))\n",
        "print(pd.crosstab(y_pred, y_test))\n",
        "print(forest_grid.score(X_test, y_test))\n",
        "print(\"\")\n",
        "print(classification_report(y_pred, y_true))"
      ],
      "execution_count": null,
      "outputs": []
    },
    {
      "cell_type": "markdown",
      "metadata": {
        "id": "4wechNetjqyz",
        "colab_type": "text"
      },
      "source": [
        "## Logistic Regression with cross vailidation and kfolds\n",
        "\n",
        "#### A basic Logistic Regression without fine tuning any parameters. "
      ]
    },
    {
      "cell_type": "code",
      "metadata": {
        "id": "hzwlH5ujjkcy",
        "colab_type": "code",
        "colab": {}
      },
      "source": [
        "%%time\n",
        "\n",
        "fit = clf.fit(X_train, y_train)\n",
        "\n",
        "# Display.\n",
        "print('Coefficients')\n",
        "print(fit.coef_)\n",
        "print(fit.intercept_)\n",
        "pred_y_sklearn = clf.predict(X_test)\n",
        "y_true = y_test\n",
        "y_pred = clf.predict(X_test)\n",
        "#print('\\n Accuracy by admission status')\n",
        "print(confusion_matrix(y_pred, y_true))\n",
        "#print(pd.crosstab(pred_y_sklearn, y_test))\n",
        "print(pred_y_sklearn.shape)\n",
        "print('\\n Percentage Recall')\n",
        "print(clf.score(X_test, y_test))\n",
        "print(classification_report(y_pred, y_true))"
      ],
      "execution_count": null,
      "outputs": []
    },
    {
      "cell_type": "markdown",
      "metadata": {
        "id": "AQq_5AdBCsY4",
        "colab_type": "text"
      },
      "source": [
        "## Lasso Regression model with cross validation\n",
        "\n",
        "#### Basic Lasso model. "
      ]
    },
    {
      "cell_type": "code",
      "metadata": {
        "id": "n40WSQAXjpYF",
        "colab_type": "code",
        "colab": {}
      },
      "source": [
        "%%time\n",
        "fit = clf_lasso.fit(X_train, y_train)\n",
        "\n",
        "# Display.\n",
        "print('Coefficients')\n",
        "print(fit.coef_)\n",
        "print(fit.intercept_)\n",
        "y_true = y_test\n",
        "y_pred = clf_lasso.predict(X_test)\n",
        "print('\\n Accuracy by admission status')\n",
        "#print(confusion_matrix(y_pred, y_true))\n",
        "print(pd.crosstab(y_pred, y_test))\n",
        "print(y_pred.shape)\n",
        "print('\\n Percentage accuracy')\n",
        "print(clf_lasso.score(X_test, y_test))\n",
        "print(classification_report(y_pred, y_true))"
      ],
      "execution_count": null,
      "outputs": []
    },
    {
      "cell_type": "markdown",
      "metadata": {
        "id": "iMGFb6CREbAf",
        "colab_type": "text"
      },
      "source": [
        "## Ridge Regression model with cross validation\n",
        "\n",
        "#### Basic Ridge Regression model. "
      ]
    },
    {
      "cell_type": "code",
      "metadata": {
        "id": "z2PQZSBPIlFL",
        "colab_type": "code",
        "colab": {}
      },
      "source": [
        "%%time\n",
        "from sklearn.linear_model import Ridge\n",
        "from sklearn.linear_model import RidgeCV\n",
        "from sklearn.linear_model import RidgeClassifierCV\n",
        "from sklearn.linear_model import RidgeClassifier\n",
        "\n",
        "ridge = RidgeClassifierCV(alphas=[1e-3, 1e-2, 1e-1, 1], class_weight='balanced', cv=kfolds)\n",
        "ridge.fit(X_train,y_train)\n",
        "scores = cross_val_score(ridge, X_train, y_train, cv=kfolds, scoring = 'recall')\n",
        "\n",
        "#ridgeregcv = RidgeCV(alphas=.35, cv = kfolds) \n",
        "#ridgeregcv.fit(X_train, y_train)\n",
        "#print(ridgeregcv.score(X_train, y_train))\n",
        "#origparams = ridgeregcv.coef_[0]\n",
        "#print(origparams)\n",
        "print(scores)\n",
        "print(\"Recall: {} (+/- {})\".format(scores.mean(), scores.std() * 2))"
      ],
      "execution_count": null,
      "outputs": []
    },
    {
      "cell_type": "markdown",
      "metadata": {
        "id": "sEkIqsY6Eok8",
        "colab_type": "text"
      },
      "source": [
        "## Ridge Regression Model with cross validation and Kfolds \n",
        "\n",
        "#### Ridge Gressgion fine tuned using Gridsearch"
      ]
    },
    {
      "cell_type": "code",
      "metadata": {
        "id": "cuDXFgCgORYa",
        "colab_type": "code",
        "colab": {}
      },
      "source": [
        "%%time\n",
        "from sklearn.model_selection import GridSearchCV\n",
        "ridge2 = RidgeClassifier(class_weight='balanced')\n",
        "\n",
        "a_list = [.01, .1, .02, .2, .03, 0.3, .04, .4, .05, .5, .06, .6, .07,.7, .08, .8, .09, .9, .1]\n",
        "alpha_list = a_list*2\n",
        "\n",
        "parameters = {'alpha': alpha_list,\n",
        "                    'fit_intercept': [True,False], \n",
        "                    'normalize' :[False, True]}\n",
        "ridge_grid = GridSearchCV(ridge2, parameters, cv=kfolds, scoring='recall')\n",
        "ridge_grid.fit(X_train, y_train)\n"
      ],
      "execution_count": null,
      "outputs": []
    },
    {
      "cell_type": "code",
      "metadata": {
        "id": "PLp_ReEbqQZo",
        "colab_type": "code",
        "colab": {}
      },
      "source": [
        "#alpha_list"
      ],
      "execution_count": null,
      "outputs": []
    },
    {
      "cell_type": "code",
      "metadata": {
        "id": "2sOWpVm5hK5c",
        "colab_type": "code",
        "colab": {}
      },
      "source": [
        "ridge_grid.score(X_test, y_test)"
      ],
      "execution_count": null,
      "outputs": []
    },
    {
      "cell_type": "code",
      "metadata": {
        "id": "WlcKhm3YiQt0",
        "colab_type": "code",
        "colab": {}
      },
      "source": [
        "ridge_grid.best_score_ "
      ],
      "execution_count": null,
      "outputs": []
    },
    {
      "cell_type": "code",
      "metadata": {
        "id": "52QJlL_CkCzQ",
        "colab_type": "code",
        "colab": {}
      },
      "source": [
        "ridge_grid.best_params_"
      ],
      "execution_count": null,
      "outputs": []
    },
    {
      "cell_type": "code",
      "metadata": {
        "id": "gkJEysQLkPuT",
        "colab_type": "code",
        "colab": {}
      },
      "source": [
        "pred_y_sklearn = ridge_grid.predict(X_test)\n",
        "y_true = y_test\n",
        "y_pred = ridge_grid.predict(X_test)\n",
        "print('\\n Accuracy by admission status')\n",
        "print(confusion_matrix(y_pred, y_true))\n",
        "#print(pd.crosstab(pred_y_sklearn, y_test))\n",
        "print(y_pred.shape) \n",
        "print(classification_report(y_pred, y_true))"
      ],
      "execution_count": null,
      "outputs": []
    },
    {
      "cell_type": "markdown",
      "metadata": {
        "id": "6enPuuThE1vu",
        "colab_type": "text"
      },
      "source": [
        ""
      ]
    },
    {
      "cell_type": "code",
      "metadata": {
        "id": "FU-xBf1aFzwv",
        "colab_type": "code",
        "colab": {}
      },
      "source": [
        "                                             "
      ],
      "execution_count": null,
      "outputs": []
    }
  ]
}