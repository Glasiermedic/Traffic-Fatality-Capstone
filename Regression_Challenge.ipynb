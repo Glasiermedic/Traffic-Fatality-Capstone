{
  "nbformat": 4,
  "nbformat_minor": 0,
  "metadata": {
    "colab": {
      "name": "Regression Challenge.ipynb",
      "version": "0.3.2",
      "provenance": [],
      "collapsed_sections": [],
      "include_colab_link": true
    },
    "kernelspec": {
      "name": "python3",
      "display_name": "Python 3"
    },
    "accelerator": "GPU"
  },
  "cells": [
    {
      "cell_type": "markdown",
      "metadata": {
        "id": "view-in-github",
        "colab_type": "text"
      },
      "source": [
        "<a href=\"https://colab.research.google.com/github/Glasiermedic/Traffic-Fatality-Capstone/blob/master/Regression_Challenge.ipynb\" target=\"_parent\"><img src=\"https://colab.research.google.com/assets/colab-badge.svg\" alt=\"Open In Colab\"/></a>"
      ]
    },
    {
      "metadata": {
        "id": "Gqa5lUE3xbFR",
        "colab_type": "text"
      },
      "cell_type": "markdown",
      "source": [
        "## Logistic Regression-classifier comparative modeling\n",
        "\n",
        "### 2017 FARS DATA\n",
        "\n",
        "####Fatal accidents are an on going issue in the United States in since the advent of combustion engines. In the last decade efforts to reduce the number of fatalities in accidents across the nation has touched the automobile industry, emergency response agencies, construction industry and even the cell phone industry.   The United States National Highway Traffic Safety Administration has been collecting data through the  Fatality Analysis Reporting System to help understand what is leading to over thirty four thousand fatal accidents each year.  This project is aimed at helping to predict the likelihood that more than 50% of invididuals involved in the motor vehicle accident will be fatalities.  Using the model to predict the outcome can help to improve intersections, determine appropriate lighting and roadway prevention devices and the change to traffic laws. \n"
      ]
    },
    {
      "metadata": {
        "id": "ZMs6hU5HBMRT",
        "colab_type": "code",
        "outputId": "dd165ebe-7ad7-43e5-a3ec-6488eab93daf",
        "colab": {
          "base_uri": "https://localhost:8080/",
          "height": 446
        }
      },
      "cell_type": "code",
      "source": [
        "import pandas as pd\n",
        "import numpy as np\n",
        "import matplotlib.pyplot as plt\n",
        "import seaborn as sns; sns.set()\n",
        "#!pip install boruta\n",
        "!pip3 install seaborn==0.9.0\n",
        "\n",
        "#from sklearn.linear_model import LogisticRegression\n",
        "from sklearn.linear_model import LogisticRegressionCV\n",
        "from sklearn.metrics import confusion_matrix\n",
        "from sklearn.preprocessing import MinMaxScaler \n",
        "from sklearn.feature_selection import RFECV\n",
        "from sklearn.model_selection import GridSearchCV\n",
        "from sklearn.svm import SVC\n",
        "\n",
        "from sklearn.ensemble import RandomForestClassifier\n",
        "#from boruta import boruta_py\n",
        "from sklearn import ensemble\n",
        "from sklearn.model_selection import cross_val_score\n",
        "from sklearn.model_selection import train_test_split\n",
        "from sklearn.model_selection import StratifiedShuffleSplit\n",
        "from sklearn.metrics import classification_report\n",
        "from sklearn.model_selection import cross_val_predict\n",
        "\n",
        "import warnings\n",
        "warnings.filterwarnings('ignore')"
      ],
      "execution_count": 2,
      "outputs": [
        {
          "output_type": "stream",
          "text": [
            "Collecting seaborn==0.9.0\n",
            "\u001b[?25l  Downloading https://files.pythonhosted.org/packages/a8/76/220ba4420459d9c4c9c9587c6ce607bf56c25b3d3d2de62056efe482dadc/seaborn-0.9.0-py3-none-any.whl (208kB)\n",
            "\r\u001b[K    4% |█▋                              | 10kB 13.6MB/s eta 0:00:01\r\u001b[K    9% |███▏                            | 20kB 1.6MB/s eta 0:00:01\r\u001b[K    14% |████▊                           | 30kB 2.4MB/s eta 0:00:01\r\u001b[K    19% |██████▎                         | 40kB 1.6MB/s eta 0:00:01\r\u001b[K    24% |███████▉                        | 51kB 2.0MB/s eta 0:00:01\r\u001b[K    29% |█████████▌                      | 61kB 2.4MB/s eta 0:00:01\r\u001b[K    34% |███████████                     | 71kB 2.8MB/s eta 0:00:01\r\u001b[K    39% |████████████▋                   | 81kB 3.2MB/s eta 0:00:01\r\u001b[K    44% |██████████████▏                 | 92kB 3.6MB/s eta 0:00:01\r\u001b[K    49% |███████████████▊                | 102kB 2.7MB/s eta 0:00:01\r\u001b[K    54% |█████████████████▎              | 112kB 2.8MB/s eta 0:00:01\r\u001b[K    59% |███████████████████             | 122kB 4.1MB/s eta 0:00:01\r\u001b[K    63% |████████████████████▌           | 133kB 4.1MB/s eta 0:00:01\r\u001b[K    68% |██████████████████████          | 143kB 7.7MB/s eta 0:00:01\r\u001b[K    73% |███████████████████████▋        | 153kB 7.8MB/s eta 0:00:01\r\u001b[K    78% |█████████████████████████▏      | 163kB 7.8MB/s eta 0:00:01\r\u001b[K    83% |██████████████████████████▊     | 174kB 7.6MB/s eta 0:00:01\r\u001b[K    88% |████████████████████████████▍   | 184kB 7.6MB/s eta 0:00:01\r\u001b[K    93% |██████████████████████████████  | 194kB 7.6MB/s eta 0:00:01\r\u001b[K    98% |███████████████████████████████▌| 204kB 41.5MB/s eta 0:00:01\r\u001b[K    100% |████████████████████████████████| 215kB 28.3MB/s \n",
            "\u001b[?25hRequirement already satisfied: scipy>=0.14.0 in /usr/local/lib/python3.6/dist-packages (from seaborn==0.9.0) (1.1.0)\n",
            "Requirement already satisfied: numpy>=1.9.3 in /usr/local/lib/python3.6/dist-packages (from seaborn==0.9.0) (1.14.6)\n",
            "Requirement already satisfied: pandas>=0.15.2 in /usr/local/lib/python3.6/dist-packages (from seaborn==0.9.0) (0.22.0)\n",
            "Requirement already satisfied: matplotlib>=1.4.3 in /usr/local/lib/python3.6/dist-packages (from seaborn==0.9.0) (3.0.3)\n",
            "Requirement already satisfied: python-dateutil>=2 in /usr/local/lib/python3.6/dist-packages (from pandas>=0.15.2->seaborn==0.9.0) (2.5.3)\n",
            "Requirement already satisfied: pytz>=2011k in /usr/local/lib/python3.6/dist-packages (from pandas>=0.15.2->seaborn==0.9.0) (2018.9)\n",
            "Requirement already satisfied: cycler>=0.10 in /usr/local/lib/python3.6/dist-packages (from matplotlib>=1.4.3->seaborn==0.9.0) (0.10.0)\n",
            "Requirement already satisfied: kiwisolver>=1.0.1 in /usr/local/lib/python3.6/dist-packages (from matplotlib>=1.4.3->seaborn==0.9.0) (1.0.1)\n",
            "Requirement already satisfied: pyparsing!=2.0.4,!=2.1.2,!=2.1.6,>=2.0.1 in /usr/local/lib/python3.6/dist-packages (from matplotlib>=1.4.3->seaborn==0.9.0) (2.3.1)\n",
            "Requirement already satisfied: six>=1.5 in /usr/local/lib/python3.6/dist-packages (from python-dateutil>=2->pandas>=0.15.2->seaborn==0.9.0) (1.11.0)\n",
            "Requirement already satisfied: setuptools in /usr/local/lib/python3.6/dist-packages (from kiwisolver>=1.0.1->matplotlib>=1.4.3->seaborn==0.9.0) (40.8.0)\n",
            "Installing collected packages: seaborn\n",
            "  Found existing installation: seaborn 0.7.1\n",
            "    Uninstalling seaborn-0.7.1:\n",
            "      Successfully uninstalled seaborn-0.7.1\n",
            "Successfully installed seaborn-0.9.0\n"
          ],
          "name": "stdout"
        },
        {
          "output_type": "display_data",
          "data": {
            "application/vnd.colab-display-data+json": {
              "pip_warning": {
                "packages": [
                  "seaborn"
                ]
              }
            }
          },
          "metadata": {
            "tags": []
          }
        }
      ]
    },
    {
      "metadata": {
        "id": "TduBuTEWK8vZ",
        "colab_type": "text"
      },
      "cell_type": "markdown",
      "source": [
        "#### The data froms from the FARS/NHTSA 2017 data archive.  "
      ]
    },
    {
      "metadata": {
        "id": "dU-mcuCtGrTZ",
        "colab_type": "code",
        "colab": {}
      },
      "cell_type": "code",
      "source": [
        "fars = pd.read_csv(\"https://raw.githubusercontent.com/lbcommer/datasets/master/2017-fars-data-set-traffic-fatalities/accident.csv\")"
      ],
      "execution_count": 0,
      "outputs": []
    },
    {
      "metadata": {
        "id": "G4VyosbvBmsX",
        "colab_type": "text"
      },
      "cell_type": "markdown",
      "source": [
        "### Feature interpetation and labels and dimension\n",
        "\n",
        "####The feature labels and their corresponding labels can be found at \n",
        "\n",
        "####ftp://ftp.nhtsa.dot.gov/fars/FARS-DOC/Coding%20and%20Validation%20Manual/2017%20FARS%20CRSS%20Coding%20and%20Validation%20Manual%2013741.pdf\n",
        "\n",
        "####All labels are in relation to the accident data set.  The dictionaries are distributed throughout the manual.  \n",
        "\n",
        "#### There are 34247 entries with 52 variables\n",
        "\n",
        "\n"
      ]
    },
    {
      "metadata": {
        "id": "ywbYbv31GuOS",
        "colab_type": "code",
        "outputId": "39535263-820f-4887-cbd5-360682ab35aa",
        "colab": {
          "base_uri": "https://localhost:8080/",
          "height": 34
        }
      },
      "cell_type": "code",
      "source": [
        "fars.shape"
      ],
      "execution_count": 4,
      "outputs": [
        {
          "output_type": "execute_result",
          "data": {
            "text/plain": [
              "(34247, 52)"
            ]
          },
          "metadata": {
            "tags": []
          },
          "execution_count": 4
        }
      ]
    },
    {
      "metadata": {
        "id": "ifoEDhh8GwEF",
        "colab_type": "code",
        "outputId": "d1d9a3fe-e239-499e-f854-95864f2bd087",
        "colab": {
          "base_uri": "https://localhost:8080/",
          "height": 253
        }
      },
      "cell_type": "code",
      "source": [
        "fars.head()"
      ],
      "execution_count": 5,
      "outputs": [
        {
          "output_type": "execute_result",
          "data": {
            "text/html": [
              "<div>\n",
              "<style scoped>\n",
              "    .dataframe tbody tr th:only-of-type {\n",
              "        vertical-align: middle;\n",
              "    }\n",
              "\n",
              "    .dataframe tbody tr th {\n",
              "        vertical-align: top;\n",
              "    }\n",
              "\n",
              "    .dataframe thead th {\n",
              "        text-align: right;\n",
              "    }\n",
              "</style>\n",
              "<table border=\"1\" class=\"dataframe\">\n",
              "  <thead>\n",
              "    <tr style=\"text-align: right;\">\n",
              "      <th></th>\n",
              "      <th>STATE</th>\n",
              "      <th>ST_CASE</th>\n",
              "      <th>VE_TOTAL</th>\n",
              "      <th>VE_FORMS</th>\n",
              "      <th>PVH_INVL</th>\n",
              "      <th>PEDS</th>\n",
              "      <th>PERNOTMVIT</th>\n",
              "      <th>PERMVIT</th>\n",
              "      <th>PERSONS</th>\n",
              "      <th>COUNTY</th>\n",
              "      <th>...</th>\n",
              "      <th>NOT_MIN</th>\n",
              "      <th>ARR_HOUR</th>\n",
              "      <th>ARR_MIN</th>\n",
              "      <th>HOSP_HR</th>\n",
              "      <th>HOSP_MN</th>\n",
              "      <th>CF1</th>\n",
              "      <th>CF2</th>\n",
              "      <th>CF3</th>\n",
              "      <th>FATALS</th>\n",
              "      <th>DRUNK_DR</th>\n",
              "    </tr>\n",
              "  </thead>\n",
              "  <tbody>\n",
              "    <tr>\n",
              "      <th>0</th>\n",
              "      <td>1</td>\n",
              "      <td>10001</td>\n",
              "      <td>1</td>\n",
              "      <td>1</td>\n",
              "      <td>0</td>\n",
              "      <td>0</td>\n",
              "      <td>0</td>\n",
              "      <td>1</td>\n",
              "      <td>1</td>\n",
              "      <td>73</td>\n",
              "      <td>...</td>\n",
              "      <td>99</td>\n",
              "      <td>99</td>\n",
              "      <td>99</td>\n",
              "      <td>88</td>\n",
              "      <td>88</td>\n",
              "      <td>0</td>\n",
              "      <td>0</td>\n",
              "      <td>0</td>\n",
              "      <td>1</td>\n",
              "      <td>0</td>\n",
              "    </tr>\n",
              "    <tr>\n",
              "      <th>1</th>\n",
              "      <td>1</td>\n",
              "      <td>10002</td>\n",
              "      <td>1</td>\n",
              "      <td>1</td>\n",
              "      <td>0</td>\n",
              "      <td>0</td>\n",
              "      <td>0</td>\n",
              "      <td>1</td>\n",
              "      <td>1</td>\n",
              "      <td>89</td>\n",
              "      <td>...</td>\n",
              "      <td>0</td>\n",
              "      <td>15</td>\n",
              "      <td>9</td>\n",
              "      <td>88</td>\n",
              "      <td>88</td>\n",
              "      <td>0</td>\n",
              "      <td>0</td>\n",
              "      <td>0</td>\n",
              "      <td>1</td>\n",
              "      <td>0</td>\n",
              "    </tr>\n",
              "    <tr>\n",
              "      <th>2</th>\n",
              "      <td>1</td>\n",
              "      <td>10003</td>\n",
              "      <td>3</td>\n",
              "      <td>3</td>\n",
              "      <td>0</td>\n",
              "      <td>0</td>\n",
              "      <td>0</td>\n",
              "      <td>3</td>\n",
              "      <td>3</td>\n",
              "      <td>101</td>\n",
              "      <td>...</td>\n",
              "      <td>99</td>\n",
              "      <td>99</td>\n",
              "      <td>99</td>\n",
              "      <td>88</td>\n",
              "      <td>88</td>\n",
              "      <td>0</td>\n",
              "      <td>0</td>\n",
              "      <td>0</td>\n",
              "      <td>1</td>\n",
              "      <td>0</td>\n",
              "    </tr>\n",
              "    <tr>\n",
              "      <th>3</th>\n",
              "      <td>1</td>\n",
              "      <td>10004</td>\n",
              "      <td>1</td>\n",
              "      <td>1</td>\n",
              "      <td>0</td>\n",
              "      <td>0</td>\n",
              "      <td>0</td>\n",
              "      <td>1</td>\n",
              "      <td>1</td>\n",
              "      <td>73</td>\n",
              "      <td>...</td>\n",
              "      <td>99</td>\n",
              "      <td>16</td>\n",
              "      <td>58</td>\n",
              "      <td>88</td>\n",
              "      <td>88</td>\n",
              "      <td>20</td>\n",
              "      <td>0</td>\n",
              "      <td>0</td>\n",
              "      <td>1</td>\n",
              "      <td>0</td>\n",
              "    </tr>\n",
              "    <tr>\n",
              "      <th>4</th>\n",
              "      <td>1</td>\n",
              "      <td>10005</td>\n",
              "      <td>1</td>\n",
              "      <td>1</td>\n",
              "      <td>0</td>\n",
              "      <td>0</td>\n",
              "      <td>0</td>\n",
              "      <td>2</td>\n",
              "      <td>2</td>\n",
              "      <td>13</td>\n",
              "      <td>...</td>\n",
              "      <td>17</td>\n",
              "      <td>20</td>\n",
              "      <td>31</td>\n",
              "      <td>21</td>\n",
              "      <td>11</td>\n",
              "      <td>0</td>\n",
              "      <td>0</td>\n",
              "      <td>0</td>\n",
              "      <td>1</td>\n",
              "      <td>0</td>\n",
              "    </tr>\n",
              "  </tbody>\n",
              "</table>\n",
              "<p>5 rows × 52 columns</p>\n",
              "</div>"
            ],
            "text/plain": [
              "   STATE  ST_CASE  VE_TOTAL  VE_FORMS  PVH_INVL  PEDS  PERNOTMVIT  PERMVIT  \\\n",
              "0      1    10001         1         1         0     0           0        1   \n",
              "1      1    10002         1         1         0     0           0        1   \n",
              "2      1    10003         3         3         0     0           0        3   \n",
              "3      1    10004         1         1         0     0           0        1   \n",
              "4      1    10005         1         1         0     0           0        2   \n",
              "\n",
              "   PERSONS  COUNTY    ...     NOT_MIN  ARR_HOUR  ARR_MIN  HOSP_HR  HOSP_MN  \\\n",
              "0        1      73    ...          99        99       99       88       88   \n",
              "1        1      89    ...           0        15        9       88       88   \n",
              "2        3     101    ...          99        99       99       88       88   \n",
              "3        1      73    ...          99        16       58       88       88   \n",
              "4        2      13    ...          17        20       31       21       11   \n",
              "\n",
              "   CF1  CF2  CF3  FATALS  DRUNK_DR  \n",
              "0    0    0    0       1         0  \n",
              "1    0    0    0       1         0  \n",
              "2    0    0    0       1         0  \n",
              "3   20    0    0       1         0  \n",
              "4    0    0    0       1         0  \n",
              "\n",
              "[5 rows x 52 columns]"
            ]
          },
          "metadata": {
            "tags": []
          },
          "execution_count": 5
        }
      ]
    },
    {
      "metadata": {
        "id": "jtLAbs7vMUQB",
        "colab_type": "text"
      },
      "cell_type": "markdown",
      "source": [
        "#### There are several variables that are categorical like city state and route identifiers that add no predictive value to the our model.  We have removed the state, state crash ID, City, County, Traffic way ID, and Traffic Way ID#2.  "
      ]
    },
    {
      "metadata": {
        "id": "j6-bOyXthG5b",
        "colab_type": "code",
        "colab": {}
      },
      "cell_type": "code",
      "source": [
        "fars =fars.drop(['STATE', 'ST_CASE', 'CITY', 'COUNTY', 'TWAY_ID', 'TWAY_ID2'], axis = 1)\n"
      ],
      "execution_count": 0,
      "outputs": []
    },
    {
      "metadata": {
        "id": "lDNbw64dszNx",
        "colab_type": "text"
      },
      "cell_type": "markdown",
      "source": [
        "### Evaluation of metric Precursors\n",
        "\n",
        "####  First we will examine \"FATALS\" to see how the number of fatalities reported is distributed.   We will utilize \"FATALS\", \"PERSONS\" and \"PEDS\" to create a ratio of fatalities and the number of individuals involved, this variable will be called  \"fatals_to_pers\".  Since we are interested in a threshold of 50% we will also convert the newly created \"fatals_to_pers\" variable into a binary variable called 'fatal_ratio_great_half'"
      ]
    },
    {
      "metadata": {
        "id": "FBZMPuaSLOAp",
        "colab_type": "code",
        "outputId": "7c0fc470-621d-4a4d-9074-ef6f0390ca60",
        "colab": {
          "base_uri": "https://localhost:8080/",
          "height": 153
        }
      },
      "cell_type": "code",
      "source": [
        "#FATALS is the number of people involved who were reported to have died on the scene or at the hospital. \n",
        "fars.FATALS.value_counts()"
      ],
      "execution_count": 7,
      "outputs": [
        {
          "output_type": "execute_result",
          "data": {
            "text/plain": [
              "1     31913\n",
              "2      1927\n",
              "3       302\n",
              "4        76\n",
              "5        25\n",
              "6         3\n",
              "13        1\n",
              "Name: FATALS, dtype: int64"
            ]
          },
          "metadata": {
            "tags": []
          },
          "execution_count": 7
        }
      ]
    },
    {
      "metadata": {
        "id": "3E8Km4FywT4M",
        "colab_type": "code",
        "outputId": "5f29ef5a-f884-4e24-fc1b-a222cc7e4149",
        "colab": {
          "base_uri": "https://localhost:8080/",
          "height": 221
        }
      },
      "cell_type": "code",
      "source": [
        "#PEDS is the number of people not in a motor vehicle that were reported. \n",
        "fars['PEDS'].value_counts()"
      ],
      "execution_count": 8,
      "outputs": [
        {
          "output_type": "execute_result",
          "data": {
            "text/plain": [
              "0     27338\n",
              "1      6513\n",
              "2       319\n",
              "3        44\n",
              "4        15\n",
              "5        12\n",
              "7         2\n",
              "23        1\n",
              "10        1\n",
              "9         1\n",
              "6         1\n",
              "Name: PEDS, dtype: int64"
            ]
          },
          "metadata": {
            "tags": []
          },
          "execution_count": 8
        }
      ]
    },
    {
      "metadata": {
        "id": "axy8DfVgwdOd",
        "colab_type": "code",
        "outputId": "2f3dd98f-5e94-4675-b8c3-d6e98c7d6b9d",
        "colab": {
          "base_uri": "https://localhost:8080/",
          "height": 561
        }
      },
      "cell_type": "code",
      "source": [
        "# PERSONS is the number of people in a motor vehicle (moving or parked) that were reported\n",
        "fars['PERSONS'].value_counts()"
      ],
      "execution_count": 9,
      "outputs": [
        {
          "output_type": "execute_result",
          "data": {
            "text/plain": [
              "1     14171\n",
              "2      9598\n",
              "3      4949\n",
              "4      2499\n",
              "5      1365\n",
              "6       706\n",
              "7       391\n",
              "8       213\n",
              "9       114\n",
              "10       75\n",
              "11       39\n",
              "0        35\n",
              "12       25\n",
              "13       13\n",
              "16       10\n",
              "14        9\n",
              "15        8\n",
              "17        7\n",
              "18        3\n",
              "19        3\n",
              "20        3\n",
              "24        2\n",
              "42        1\n",
              "47        1\n",
              "48        1\n",
              "40        1\n",
              "26        1\n",
              "50        1\n",
              "21        1\n",
              "23        1\n",
              "29        1\n",
              "Name: PERSONS, dtype: int64"
            ]
          },
          "metadata": {
            "tags": []
          },
          "execution_count": 9
        }
      ]
    },
    {
      "metadata": {
        "id": "I2YcWmZqPQOA",
        "colab_type": "code",
        "colab": {}
      },
      "cell_type": "code",
      "source": [
        "fars['total_pers_involved'] = fars['PEDS'] + fars['PERSONS']"
      ],
      "execution_count": 0,
      "outputs": []
    },
    {
      "metadata": {
        "id": "5-ED82slPlrh",
        "colab_type": "code",
        "colab": {}
      },
      "cell_type": "code",
      "source": [
        "fars['fatals_to_pers_'] = fars['FATALS'] / fars['total_pers_involved']"
      ],
      "execution_count": 0,
      "outputs": []
    },
    {
      "metadata": {
        "id": "J3G6FTBDQLSP",
        "colab_type": "code",
        "colab": {}
      },
      "cell_type": "code",
      "source": [
        "#fars['fatals_to_pers_'].value_counts()"
      ],
      "execution_count": 0,
      "outputs": []
    },
    {
      "metadata": {
        "id": "PWEwhlt0RIjY",
        "colab_type": "code",
        "outputId": "2efaadd1-8528-4de9-9076-a0206c6b0788",
        "colab": {
          "base_uri": "https://localhost:8080/",
          "height": 361
        }
      },
      "cell_type": "code",
      "source": [
        "sns.distplot(fars['fatals_to_pers_'], bins=10)\n",
        "plt.show()"
      ],
      "execution_count": 13,
      "outputs": [
        {
          "output_type": "display_data",
          "data": {
            "image/png": "[encoded data removed]",
            "text/plain": [
              "<Figure size 576x396 with 1 Axes>"
            ]
          },
          "metadata": {
            "tags": []
          }
        }
      ]
    },
    {
      "metadata": {
        "id": "egwoBp6cdxR_",
        "colab_type": "code",
        "colab": {}
      },
      "cell_type": "code",
      "source": [
        ""
      ],
      "execution_count": 0,
      "outputs": []
    },
    {
      "metadata": {
        "id": "gU28DxxThVQV",
        "colab_type": "text"
      },
      "cell_type": "markdown",
      "source": [
        "#### 12,971  fatal accidents had 50% of the individuals involved die.  \n",
        "\n",
        "#### 10,615 fatal accidents had less than 50% of the individuals involved die. \n",
        "\n",
        "#### 10,661 fatal accidents had over 50% of individuals involved die. "
      ]
    },
    {
      "metadata": {
        "id": "DBBvJfk8doTn",
        "colab_type": "code",
        "outputId": "e22419d0-2f62-486b-8047-18a02f975c9b",
        "colab": {
          "base_uri": "https://localhost:8080/",
          "height": 34
        }
      },
      "cell_type": "code",
      "source": [
        "# all three values can be obtained by changing the bolean portion of this code between '==','<','>'\n",
        "fars['fatals_to_pers_'].loc[np.where((fars['fatals_to_pers_'])==.5)].count()"
      ],
      "execution_count": 14,
      "outputs": [
        {
          "output_type": "execute_result",
          "data": {
            "text/plain": [
              "12971"
            ]
          },
          "metadata": {
            "tags": []
          },
          "execution_count": 14
        }
      ]
    },
    {
      "metadata": {
        "id": "kPusGgpQTJEa",
        "colab_type": "code",
        "colab": {}
      },
      "cell_type": "code",
      "source": [
        "fars['fatal_ratio_great_half'] = fars['fatals_to_pers_'].apply(lambda x: x > .5)*1"
      ],
      "execution_count": 0,
      "outputs": []
    },
    {
      "metadata": {
        "id": "gWEMpzBpasyC",
        "colab_type": "code",
        "outputId": "77a58605-eafb-437f-d844-d92db11fda8d",
        "colab": {
          "base_uri": "https://localhost:8080/",
          "height": 359
        }
      },
      "cell_type": "code",
      "source": [
        "fars.loc[0:, 'fatals_to_pers_':'fatal_ratio_great_half'].head(10)"
      ],
      "execution_count": 16,
      "outputs": [
        {
          "output_type": "execute_result",
          "data": {
            "text/html": [
              "<div>\n",
              "<style scoped>\n",
              "    .dataframe tbody tr th:only-of-type {\n",
              "        vertical-align: middle;\n",
              "    }\n",
              "\n",
              "    .dataframe tbody tr th {\n",
              "        vertical-align: top;\n",
              "    }\n",
              "\n",
              "    .dataframe thead th {\n",
              "        text-align: right;\n",
              "    }\n",
              "</style>\n",
              "<table border=\"1\" class=\"dataframe\">\n",
              "  <thead>\n",
              "    <tr style=\"text-align: right;\">\n",
              "      <th></th>\n",
              "      <th>fatals_to_pers_</th>\n",
              "      <th>fatal_ratio_great_half</th>\n",
              "    </tr>\n",
              "  </thead>\n",
              "  <tbody>\n",
              "    <tr>\n",
              "      <th>0</th>\n",
              "      <td>1.000000</td>\n",
              "      <td>1</td>\n",
              "    </tr>\n",
              "    <tr>\n",
              "      <th>1</th>\n",
              "      <td>1.000000</td>\n",
              "      <td>1</td>\n",
              "    </tr>\n",
              "    <tr>\n",
              "      <th>2</th>\n",
              "      <td>0.333333</td>\n",
              "      <td>0</td>\n",
              "    </tr>\n",
              "    <tr>\n",
              "      <th>3</th>\n",
              "      <td>1.000000</td>\n",
              "      <td>1</td>\n",
              "    </tr>\n",
              "    <tr>\n",
              "      <th>4</th>\n",
              "      <td>0.500000</td>\n",
              "      <td>0</td>\n",
              "    </tr>\n",
              "    <tr>\n",
              "      <th>5</th>\n",
              "      <td>0.250000</td>\n",
              "      <td>0</td>\n",
              "    </tr>\n",
              "    <tr>\n",
              "      <th>6</th>\n",
              "      <td>0.500000</td>\n",
              "      <td>0</td>\n",
              "    </tr>\n",
              "    <tr>\n",
              "      <th>7</th>\n",
              "      <td>1.000000</td>\n",
              "      <td>1</td>\n",
              "    </tr>\n",
              "    <tr>\n",
              "      <th>8</th>\n",
              "      <td>1.000000</td>\n",
              "      <td>1</td>\n",
              "    </tr>\n",
              "    <tr>\n",
              "      <th>9</th>\n",
              "      <td>0.500000</td>\n",
              "      <td>0</td>\n",
              "    </tr>\n",
              "  </tbody>\n",
              "</table>\n",
              "</div>"
            ],
            "text/plain": [
              "   fatals_to_pers_  fatal_ratio_great_half\n",
              "0         1.000000                       1\n",
              "1         1.000000                       1\n",
              "2         0.333333                       0\n",
              "3         1.000000                       1\n",
              "4         0.500000                       0\n",
              "5         0.250000                       0\n",
              "6         0.500000                       0\n",
              "7         1.000000                       1\n",
              "8         1.000000                       1\n",
              "9         0.500000                       0"
            ]
          },
          "metadata": {
            "tags": []
          },
          "execution_count": 16
        }
      ]
    },
    {
      "metadata": {
        "id": "yTH6aFyYjMl6",
        "colab_type": "code",
        "outputId": "9c78815c-fd90-4ee2-9ea0-54b0b6b7b555",
        "colab": {
          "base_uri": "https://localhost:8080/",
          "height": 297
        }
      },
      "cell_type": "code",
      "source": [
        "fars.loc[0:, 'fatals_to_pers_':'fatal_ratio_great_half'].describe()"
      ],
      "execution_count": 17,
      "outputs": [
        {
          "output_type": "execute_result",
          "data": {
            "text/html": [
              "<div>\n",
              "<style scoped>\n",
              "    .dataframe tbody tr th:only-of-type {\n",
              "        vertical-align: middle;\n",
              "    }\n",
              "\n",
              "    .dataframe tbody tr th {\n",
              "        vertical-align: top;\n",
              "    }\n",
              "\n",
              "    .dataframe thead th {\n",
              "        text-align: right;\n",
              "    }\n",
              "</style>\n",
              "<table border=\"1\" class=\"dataframe\">\n",
              "  <thead>\n",
              "    <tr style=\"text-align: right;\">\n",
              "      <th></th>\n",
              "      <th>fatals_to_pers_</th>\n",
              "      <th>fatal_ratio_great_half</th>\n",
              "    </tr>\n",
              "  </thead>\n",
              "  <tbody>\n",
              "    <tr>\n",
              "      <th>count</th>\n",
              "      <td>34247.000000</td>\n",
              "      <td>34247.000000</td>\n",
              "    </tr>\n",
              "    <tr>\n",
              "      <th>mean</th>\n",
              "      <td>0.578684</td>\n",
              "      <td>0.311297</td>\n",
              "    </tr>\n",
              "    <tr>\n",
              "      <th>std</th>\n",
              "      <td>0.289706</td>\n",
              "      <td>0.463031</td>\n",
              "    </tr>\n",
              "    <tr>\n",
              "      <th>min</th>\n",
              "      <td>0.020833</td>\n",
              "      <td>0.000000</td>\n",
              "    </tr>\n",
              "    <tr>\n",
              "      <th>25%</th>\n",
              "      <td>0.333333</td>\n",
              "      <td>0.000000</td>\n",
              "    </tr>\n",
              "    <tr>\n",
              "      <th>50%</th>\n",
              "      <td>0.500000</td>\n",
              "      <td>0.000000</td>\n",
              "    </tr>\n",
              "    <tr>\n",
              "      <th>75%</th>\n",
              "      <td>1.000000</td>\n",
              "      <td>1.000000</td>\n",
              "    </tr>\n",
              "    <tr>\n",
              "      <th>max</th>\n",
              "      <td>1.000000</td>\n",
              "      <td>1.000000</td>\n",
              "    </tr>\n",
              "  </tbody>\n",
              "</table>\n",
              "</div>"
            ],
            "text/plain": [
              "       fatals_to_pers_  fatal_ratio_great_half\n",
              "count     34247.000000            34247.000000\n",
              "mean          0.578684                0.311297\n",
              "std           0.289706                0.463031\n",
              "min           0.020833                0.000000\n",
              "25%           0.333333                0.000000\n",
              "50%           0.500000                0.000000\n",
              "75%           1.000000                1.000000\n",
              "max           1.000000                1.000000"
            ]
          },
          "metadata": {
            "tags": []
          },
          "execution_count": 17
        }
      ]
    },
    {
      "metadata": {
        "id": "VZS9Z6Uu0sFU",
        "colab_type": "text"
      },
      "cell_type": "markdown",
      "source": [
        "### Resulting Metric: \n",
        "\n",
        "#### WE now have the variable 'fatal_ratio_great_half' which we will use as our metric for our project.  It has a "
      ]
    },
    {
      "metadata": {
        "id": "6tHy2oQAaSkw",
        "colab_type": "code",
        "colab": {}
      },
      "cell_type": "code",
      "source": [
        "#fars['fatal_ratio_great_half'].head(30)"
      ],
      "execution_count": 0,
      "outputs": []
    },
    {
      "metadata": {
        "id": "F4p5JI3UczPp",
        "colab_type": "code",
        "outputId": "5e5d4209-da35-4602-a2f2-33c92f2ec4cd",
        "colab": {
          "base_uri": "https://localhost:8080/",
          "height": 68
        }
      },
      "cell_type": "code",
      "source": [
        "fars['fatal_ratio_great_half'].value_counts()"
      ],
      "execution_count": 19,
      "outputs": [
        {
          "output_type": "execute_result",
          "data": {
            "text/plain": [
              "0    23586\n",
              "1    10661\n",
              "Name: fatal_ratio_great_half, dtype: int64"
            ]
          },
          "metadata": {
            "tags": []
          },
          "execution_count": 19
        }
      ]
    },
    {
      "metadata": {
        "id": "JyUKPFZ8UmmQ",
        "colab_type": "code",
        "outputId": "2343b337-5e5a-4564-edf3-2a7094581256",
        "colab": {
          "base_uri": "https://localhost:8080/",
          "height": 378
        }
      },
      "cell_type": "code",
      "source": [
        "sns.distplot(fars['fatal_ratio_great_half'])"
      ],
      "execution_count": 20,
      "outputs": [
        {
          "output_type": "execute_result",
          "data": {
            "text/plain": [
              "<matplotlib.axes._subplots.AxesSubplot at 0x7f2caae10550>"
            ]
          },
          "metadata": {
            "tags": []
          },
          "execution_count": 20
        },
        {
          "output_type": "display_data",
          "data": {
            "image/png": "[encoded data removed]",
            "text/plain": [
              "<Figure size 576x396 with 1 Axes>"
            ]
          },
          "metadata": {
            "tags": []
          }
        }
      ]
    },
    {
      "metadata": {
        "id": "jSszubvFjxFq",
        "colab_type": "text"
      },
      "cell_type": "markdown",
      "source": [
        "#### Removing the fields that we utilized as part of the calculation for the metric variable. "
      ]
    },
    {
      "metadata": {
        "id": "9Fbs812pAJ6g",
        "colab_type": "code",
        "colab": {}
      },
      "cell_type": "code",
      "source": [
        "fars = fars.drop(['PEDS', 'FATALS', 'PERSONS', 'PERNOTMVIT', 'PERMVIT'],axis = 1)"
      ],
      "execution_count": 0,
      "outputs": []
    },
    {
      "metadata": {
        "id": "tnR1IjqRkNxo",
        "colab_type": "text"
      },
      "cell_type": "markdown",
      "source": [
        "#### Converting a categorical variable tracking the exact railroad crossing associated with the accident, if any or known, into a variable that indicates if there was a railroad crossing or not. "
      ]
    },
    {
      "metadata": {
        "id": "4Jsc6K5MsLb9",
        "colab_type": "code",
        "colab": {}
      },
      "cell_type": "code",
      "source": [
        "for i in range(0,len(fars['RAIL'])):\n",
        "  if (fars['RAIL'][i]) == '0000000' or (fars['RAIL'][i]) == '9999999':\n",
        "    fars.at[i,'RAIL']= 0\n",
        "  else: \n",
        "    fars.at[i,'RAIL']= 1\n",
        "    \n",
        "fars['RAIL'] =fars['RAIL'].astype('int')   \n",
        "    \n",
        "    \n",
        "\n"
      ],
      "execution_count": 0,
      "outputs": []
    },
    {
      "metadata": {
        "id": "f-Jp7i6U6ZAU",
        "colab_type": "code",
        "outputId": "d37e4372-87db-4319-8a6d-99b1ebf14c72",
        "colab": {
          "base_uri": "https://localhost:8080/",
          "height": 68
        }
      },
      "cell_type": "code",
      "source": [
        "fars['RAIL'].value_counts()"
      ],
      "execution_count": 23,
      "outputs": [
        {
          "output_type": "execute_result",
          "data": {
            "text/plain": [
              "0    34127\n",
              "1      120\n",
              "Name: RAIL, dtype: int64"
            ]
          },
          "metadata": {
            "tags": []
          },
          "execution_count": 23
        }
      ]
    },
    {
      "metadata": {
        "id": "13PEBQCHk6k-",
        "colab_type": "text"
      },
      "cell_type": "markdown",
      "source": [
        "#### Checking to make sure all variables are now integers or floats to accomodate machine learning models. "
      ]
    },
    {
      "metadata": {
        "id": "ZmSW5PdOqwDF",
        "colab_type": "code",
        "outputId": "6f8fdfa6-14d2-47b6-8976-435159f8a992",
        "colab": {
          "base_uri": "https://localhost:8080/",
          "height": 850
        }
      },
      "cell_type": "code",
      "source": [
        "fars.info()"
      ],
      "execution_count": 24,
      "outputs": [
        {
          "output_type": "stream",
          "text": [
            "<class 'pandas.core.frame.DataFrame'>\n",
            "RangeIndex: 34247 entries, 0 to 34246\n",
            "Data columns (total 44 columns):\n",
            "VE_TOTAL                  34247 non-null int64\n",
            "VE_FORMS                  34247 non-null int64\n",
            "PVH_INVL                  34247 non-null int64\n",
            "DAY                       34247 non-null int64\n",
            "MONTH                     34247 non-null int64\n",
            "YEAR                      34247 non-null int64\n",
            "DAY_WEEK                  34247 non-null int64\n",
            "HOUR                      34247 non-null int64\n",
            "MINUTE                    34247 non-null int64\n",
            "NHS                       34247 non-null int64\n",
            "RUR_URB                   34247 non-null int64\n",
            "FUNC_SYS                  34247 non-null int64\n",
            "RD_OWNER                  34247 non-null int64\n",
            "ROUTE                     34247 non-null int64\n",
            "MILEPT                    34247 non-null int64\n",
            "LATITUDE                  34247 non-null float64\n",
            "LONGITUD                  34247 non-null float64\n",
            "SP_JUR                    34247 non-null int64\n",
            "HARM_EV                   34247 non-null int64\n",
            "MAN_COLL                  34247 non-null int64\n",
            "RELJCT1                   34247 non-null int64\n",
            "RELJCT2                   34247 non-null int64\n",
            "TYP_INT                   34247 non-null int64\n",
            "WRK_ZONE                  34247 non-null int64\n",
            "REL_ROAD                  34247 non-null int64\n",
            "LGT_COND                  34247 non-null int64\n",
            "WEATHER1                  34247 non-null int64\n",
            "WEATHER2                  34247 non-null int64\n",
            "WEATHER                   34247 non-null int64\n",
            "SCH_BUS                   34247 non-null int64\n",
            "RAIL                      34247 non-null int64\n",
            "NOT_HOUR                  34247 non-null int64\n",
            "NOT_MIN                   34247 non-null int64\n",
            "ARR_HOUR                  34247 non-null int64\n",
            "ARR_MIN                   34247 non-null int64\n",
            "HOSP_HR                   34247 non-null int64\n",
            "HOSP_MN                   34247 non-null int64\n",
            "CF1                       34247 non-null int64\n",
            "CF2                       34247 non-null int64\n",
            "CF3                       34247 non-null int64\n",
            "DRUNK_DR                  34247 non-null int64\n",
            "total_pers_involved       34247 non-null int64\n",
            "fatals_to_pers_           34247 non-null float64\n",
            "fatal_ratio_great_half    34247 non-null int64\n",
            "dtypes: float64(3), int64(41)\n",
            "memory usage: 11.5 MB\n"
          ],
          "name": "stdout"
        }
      ]
    },
    {
      "metadata": {
        "id": "Wz2CvTfMlKp5",
        "colab_type": "text"
      },
      "cell_type": "markdown",
      "source": [
        "#### A function has been created to allow for finetuning of features based on correlation with each other. "
      ]
    },
    {
      "metadata": {
        "id": "pqnp1-N-5NqO",
        "colab_type": "code",
        "colab": {}
      },
      "cell_type": "code",
      "source": [
        "def corr_dataframe(dataframe,decimal_percentage):\n",
        "  correlated_features = set()  \n",
        "  correlation_matrix = dataframe.corr()\n",
        "  for i in range(len(correlation_matrix .columns)):  \n",
        "      for j in range(i):\n",
        "          if abs(correlation_matrix.iloc[i, j]) < decimal_percentage and i!= j:\n",
        "              colname = correlation_matrix.columns[i]\n",
        "              correlated_features.add(colname)\n",
        "  #print(correlation_matrix)\n",
        "  print(\"the dimensions of the dataframe are:{} when we set the precentage to %{}\".format(dataframe.shape,decimal_percentage*100))\n",
        "  print(correlated_features) \n",
        "  print(len(correlated_features))\n",
        "  return correlated_features"
      ],
      "execution_count": 0,
      "outputs": []
    },
    {
      "metadata": {
        "id": "xsjFb1S1ygxh",
        "colab_type": "text"
      },
      "cell_type": "markdown",
      "source": [
        "#### Created a ten fold split in data to allow for a more robust cross validation for all models used"
      ]
    },
    {
      "metadata": {
        "id": "KXr83-FwTpfl",
        "colab_type": "code",
        "colab": {}
      },
      "cell_type": "code",
      "source": [
        "kfolds = StratifiedShuffleSplit(n_splits =10, random_state=1)"
      ],
      "execution_count": 0,
      "outputs": []
    },
    {
      "metadata": {
        "id": "i1ZY3-F9yxVT",
        "colab_type": "text"
      },
      "cell_type": "markdown",
      "source": [
        "#### An RFECV (recursive feature elimination and cross-validated selection) as another method of choosing features to exclude from the models to help eliminate noise from the model. This function has a very high computational cost and was not used in the end but is included for use or alteration should the stakeholders decide that a higher accuracy or other measure was wanted.  "
      ]
    },
    {
      "metadata": {
        "id": "LV2CK6oYTLz5",
        "colab_type": "code",
        "outputId": "0d0f13c9-8b94-4dce-e1b6-cd3f4863896e",
        "colab": {
          "base_uri": "https://localhost:8080/",
          "height": 51
        }
      },
      "cell_type": "code",
      "source": [
        "%%time\n",
        "#estimator = SVR(kernel=\"linear\")\n",
        "\n",
        "#selector = RFECV(estimator, step=1, cv=kfolds)\n",
        "#selector.fit(fars.drop(['VE_TOTAL_of1'], axis=1),fars['VE_TOTAL_of1'])\n",
        "#selector.support_ "
      ],
      "execution_count": 27,
      "outputs": [
        {
          "output_type": "stream",
          "text": [
            "CPU times: user 4 µs, sys: 1 µs, total: 5 µs\n",
            "Wall time: 9.3 µs\n"
          ],
          "name": "stdout"
        }
      ]
    },
    {
      "metadata": {
        "id": "3ZpWC03qMSPa",
        "colab_type": "code",
        "outputId": "92595b8d-6278-4ebb-ee1b-dbe3d5cfd904",
        "colab": {
          "base_uri": "https://localhost:8080/",
          "height": 34
        }
      },
      "cell_type": "code",
      "source": [
        "X = fars.drop(['fatal_ratio_great_half'],axis =1)\n",
        "y = fars['fatal_ratio_great_half'] \n",
        "y.shape\n",
        "print (X.shape)"
      ],
      "execution_count": 28,
      "outputs": [
        {
          "output_type": "stream",
          "text": [
            "(34247, 43)\n"
          ],
          "name": "stdout"
        }
      ]
    },
    {
      "metadata": {
        "id": "_bYNQJkL0Fy7",
        "colab_type": "text"
      },
      "cell_type": "markdown",
      "source": [
        "#### We will utilize a Random Forest Classifier to determine which features will best help our models.  We will also run a seperate Random Forest algorithm as a comparison for the logistic regression, ridge and lasso algorithms. "
      ]
    },
    {
      "metadata": {
        "id": "qyUOMRvJB0rf",
        "colab_type": "code",
        "outputId": "752777e4-45df-48e7-92bf-8bcbb64496a2",
        "colab": {
          "base_uri": "https://localhost:8080/",
          "height": 136
        }
      },
      "cell_type": "code",
      "source": [
        "\n",
        "\n",
        "rfc = ensemble.RandomForestClassifier() \n",
        "\n",
        " \n",
        "# define random forest classifier, with utilising all cores and\n",
        "# sampling in proportion to y labels\n",
        "forest = RandomForestClassifier(n_jobs=-1, class_weight='balanced', max_depth=7, random_state = 1)\n",
        " \n",
        "forest.fit(X,y)"
      ],
      "execution_count": 29,
      "outputs": [
        {
          "output_type": "execute_result",
          "data": {
            "text/plain": [
              "RandomForestClassifier(bootstrap=True, class_weight='balanced',\n",
              "            criterion='gini', max_depth=7, max_features='auto',\n",
              "            max_leaf_nodes=None, min_impurity_decrease=0.0,\n",
              "            min_impurity_split=None, min_samples_leaf=1,\n",
              "            min_samples_split=2, min_weight_fraction_leaf=0.0,\n",
              "            n_estimators=10, n_jobs=-1, oob_score=False, random_state=1,\n",
              "            verbose=0, warm_start=False)"
            ]
          },
          "metadata": {
            "tags": []
          },
          "execution_count": 29
        }
      ]
    },
    {
      "metadata": {
        "id": "2mj5SqwnVArr",
        "colab_type": "code",
        "outputId": "b79abf4a-51d5-4d53-8dbe-f4b4e6a0568c",
        "colab": {
          "base_uri": "https://localhost:8080/",
          "height": 34
        }
      },
      "cell_type": "code",
      "source": [
        "\n",
        "forest.feature_importances_\n",
        "forest.score(X,y)"
      ],
      "execution_count": 30,
      "outputs": [
        {
          "output_type": "execute_result",
          "data": {
            "text/plain": [
              "1.0"
            ]
          },
          "metadata": {
            "tags": []
          },
          "execution_count": 30
        }
      ]
    },
    {
      "metadata": {
        "id": "bqsn3PCO5YuT",
        "colab_type": "code",
        "outputId": "04278da3-695c-49aa-d309-4340e35123f7",
        "colab": {
          "base_uri": "https://localhost:8080/",
          "height": 34
        }
      },
      "cell_type": "code",
      "source": [
        "fars.shape[1]"
      ],
      "execution_count": 31,
      "outputs": [
        {
          "output_type": "execute_result",
          "data": {
            "text/plain": [
              "44"
            ]
          },
          "metadata": {
            "tags": []
          },
          "execution_count": 31
        }
      ]
    },
    {
      "metadata": {
        "id": "Hn2yC1Fs0-ll",
        "colab_type": "text"
      },
      "cell_type": "markdown",
      "source": [
        "### Feature Importance:\n",
        "#### We now have a list and a graph of the features that the Random Forest Model calculated to be the most important in predicting the target values for our metric."
      ]
    },
    {
      "metadata": {
        "id": "wUE7aiyPMegF",
        "colab_type": "code",
        "outputId": "d944e7ea-bb42-4dc7-95e6-0356e7929d7b",
        "colab": {
          "base_uri": "https://localhost:8080/",
          "height": 583
        }
      },
      "cell_type": "code",
      "source": [
        "%%time\n",
        "forest = RandomForestClassifier(n_jobs=-1, class_weight='balanced', max_depth=7, random_state = 1)\n",
        " \n",
        "forest.fit(X,y)\n",
        "\n",
        "\n",
        "importances = forest.feature_importances_\n",
        "std = np.std([forest.feature_importances_ for tree in forest.estimators_],\n",
        "             axis=0)\n",
        "\n",
        "indices = np.argsort(importances)[::-1]\n",
        "imp_feat = []\n",
        "print(\"Top Ten Feature Ranking:\")\n",
        "\n",
        "for f in range(X.shape[1]):\n",
        "    imp_feat.append(fars.columns[f])\n",
        "for f in range (0,10):\n",
        "    print(\"{}. {} ({})\".format(f + 1, fars.columns[f], importances[indices[f]]))\n",
        "\n",
        "# Plot the feature importances of the forest\n",
        "plt.figure()\n",
        "plt.title(\"Feature importances\")\n",
        "plt.bar(range(0,10), importances[indices][:10],\n",
        "       color=\"r\", yerr=std[indices][:10], align=\"center\")\n",
        "plt.xticks(range(0,10), indices[:10])\n",
        "plt.xlim([-1, 10])\n",
        "plt.show()"
      ],
      "execution_count": 32,
      "outputs": [
        {
          "output_type": "stream",
          "text": [
            "Top Ten Feature Ranking:\n",
            "1. VE_TOTAL (0.4720357720097173)\n",
            "2. VE_FORMS (0.3933236296033657)\n",
            "3. PVH_INVL (0.04357506149553808)\n",
            "4. DAY (0.027682057173702847)\n",
            "5. MONTH (0.015862516659502685)\n",
            "6. YEAR (0.015333602874900987)\n",
            "7. DAY_WEEK (0.009048921458199402)\n",
            "8. HOUR (0.0089935019696608)\n",
            "9. MINUTE (0.004762764834651044)\n",
            "10. NHS (0.004373515836916456)\n"
          ],
          "name": "stdout"
        },
        {
          "output_type": "display_data",
          "data": {
            "image/png": "[encoded data removed]",
            "text/plain": [
              "<Figure size 576x396 with 1 Axes>"
            ]
          },
          "metadata": {
            "tags": []
          }
        },
        {
          "output_type": "stream",
          "text": [
            "CPU times: user 590 ms, sys: 151 ms, total: 741 ms\n",
            "Wall time: 1.57 s\n"
          ],
          "name": "stdout"
        }
      ]
    },
    {
      "metadata": {
        "id": "NAZCqM1g7gVd",
        "colab_type": "text"
      },
      "cell_type": "markdown",
      "source": [
        "### Target Metric vs. Selected features\n",
        "\n",
        "#### For each feature a scatter plot against the target metric reveals how the target metric is related to the feature. "
      ]
    },
    {
      "metadata": {
        "id": "BPbApZm5QtYm",
        "colab_type": "code",
        "colab": {}
      },
      "cell_type": "code",
      "source": [
        "feat_imp =imp_feat[:10]\n",
        "\n",
        "fars_feat = fars[feat_imp]\n"
      ],
      "execution_count": 0,
      "outputs": []
    },
    {
      "metadata": {
        "id": "oy_8DO6USVY1",
        "colab_type": "code",
        "outputId": "5421aa4f-d35f-42e9-be22-530a5c8b597e",
        "colab": {
          "base_uri": "https://localhost:8080/",
          "height": 643
        }
      },
      "cell_type": "code",
      "source": [
        "%%time\n",
        "\n",
        "plt.figure(figsize=(15,5))\n",
        "for item in fars_feat.columns:\n",
        "  plt.figure(figsize=(15,5))\n",
        "  sns.scatterplot(x =fars_feat[item], y = fars['fatals_to_pers_'])\n",
        "  plt.title(item)\n",
        "  plt.show()\n",
        "\n"
      ],
      "execution_count": 34,
      "outputs": [
        {
          "output_type": "error",
          "ename": "AttributeError",
          "evalue": "ignored",
          "traceback": [
            "\u001b[0;31m---------------------------------------------------------------------------\u001b[0m",
            "\u001b[0;31mAttributeError\u001b[0m                            Traceback (most recent call last)",
            "\u001b[0;32m<ipython-input-34-4194d76b5099>\u001b[0m in \u001b[0;36m<module>\u001b[0;34m()\u001b[0m\n\u001b[0;32m----> 1\u001b[0;31m \u001b[0mget_ipython\u001b[0m\u001b[0;34m(\u001b[0m\u001b[0;34m)\u001b[0m\u001b[0;34m.\u001b[0m\u001b[0mrun_cell_magic\u001b[0m\u001b[0;34m(\u001b[0m\u001b[0;34m'time'\u001b[0m\u001b[0;34m,\u001b[0m \u001b[0;34m''\u001b[0m\u001b[0;34m,\u001b[0m \u001b[0;34m\"\\nplt.figure(figsize=(15,5))\\nfor item in fars_feat.columns:\\n  plt.figure(figsize=(15,5))\\n  sns.scatterplot(x =fars_feat[item], y = fars['fatals_to_pers_'])\\n  plt.title(item)\\n  plt.show()\\n\"\u001b[0m\u001b[0;34m)\u001b[0m\u001b[0;34m\u001b[0m\u001b[0;34m\u001b[0m\u001b[0m\n\u001b[0m",
            "\u001b[0;32m/usr/local/lib/python3.6/dist-packages/IPython/core/interactiveshell.py\u001b[0m in \u001b[0;36mrun_cell_magic\u001b[0;34m(self, magic_name, line, cell)\u001b[0m\n\u001b[1;32m   2115\u001b[0m             \u001b[0mmagic_arg_s\u001b[0m \u001b[0;34m=\u001b[0m \u001b[0mself\u001b[0m\u001b[0;34m.\u001b[0m\u001b[0mvar_expand\u001b[0m\u001b[0;34m(\u001b[0m\u001b[0mline\u001b[0m\u001b[0;34m,\u001b[0m \u001b[0mstack_depth\u001b[0m\u001b[0;34m)\u001b[0m\u001b[0;34m\u001b[0m\u001b[0;34m\u001b[0m\u001b[0m\n\u001b[1;32m   2116\u001b[0m             \u001b[0;32mwith\u001b[0m \u001b[0mself\u001b[0m\u001b[0;34m.\u001b[0m\u001b[0mbuiltin_trap\u001b[0m\u001b[0;34m:\u001b[0m\u001b[0;34m\u001b[0m\u001b[0;34m\u001b[0m\u001b[0m\n\u001b[0;32m-> 2117\u001b[0;31m                 \u001b[0mresult\u001b[0m \u001b[0;34m=\u001b[0m \u001b[0mfn\u001b[0m\u001b[0;34m(\u001b[0m\u001b[0mmagic_arg_s\u001b[0m\u001b[0;34m,\u001b[0m \u001b[0mcell\u001b[0m\u001b[0;34m)\u001b[0m\u001b[0;34m\u001b[0m\u001b[0;34m\u001b[0m\u001b[0m\n\u001b[0m\u001b[1;32m   2118\u001b[0m             \u001b[0;32mreturn\u001b[0m \u001b[0mresult\u001b[0m\u001b[0;34m\u001b[0m\u001b[0;34m\u001b[0m\u001b[0m\n\u001b[1;32m   2119\u001b[0m \u001b[0;34m\u001b[0m\u001b[0m\n",
            "\u001b[0;32m</usr/local/lib/python3.6/dist-packages/decorator.py:decorator-gen-60>\u001b[0m in \u001b[0;36mtime\u001b[0;34m(self, line, cell, local_ns)\u001b[0m\n",
            "\u001b[0;32m/usr/local/lib/python3.6/dist-packages/IPython/core/magic.py\u001b[0m in \u001b[0;36m<lambda>\u001b[0;34m(f, *a, **k)\u001b[0m\n\u001b[1;32m    186\u001b[0m     \u001b[0;31m# but it's overkill for just that one bit of state.\u001b[0m\u001b[0;34m\u001b[0m\u001b[0;34m\u001b[0m\u001b[0;34m\u001b[0m\u001b[0m\n\u001b[1;32m    187\u001b[0m     \u001b[0;32mdef\u001b[0m \u001b[0mmagic_deco\u001b[0m\u001b[0;34m(\u001b[0m\u001b[0marg\u001b[0m\u001b[0;34m)\u001b[0m\u001b[0;34m:\u001b[0m\u001b[0;34m\u001b[0m\u001b[0;34m\u001b[0m\u001b[0m\n\u001b[0;32m--> 188\u001b[0;31m         \u001b[0mcall\u001b[0m \u001b[0;34m=\u001b[0m \u001b[0;32mlambda\u001b[0m \u001b[0mf\u001b[0m\u001b[0;34m,\u001b[0m \u001b[0;34m*\u001b[0m\u001b[0ma\u001b[0m\u001b[0;34m,\u001b[0m \u001b[0;34m**\u001b[0m\u001b[0mk\u001b[0m\u001b[0;34m:\u001b[0m \u001b[0mf\u001b[0m\u001b[0;34m(\u001b[0m\u001b[0;34m*\u001b[0m\u001b[0ma\u001b[0m\u001b[0;34m,\u001b[0m \u001b[0;34m**\u001b[0m\u001b[0mk\u001b[0m\u001b[0;34m)\u001b[0m\u001b[0;34m\u001b[0m\u001b[0;34m\u001b[0m\u001b[0m\n\u001b[0m\u001b[1;32m    189\u001b[0m \u001b[0;34m\u001b[0m\u001b[0m\n\u001b[1;32m    190\u001b[0m         \u001b[0;32mif\u001b[0m \u001b[0mcallable\u001b[0m\u001b[0;34m(\u001b[0m\u001b[0marg\u001b[0m\u001b[0;34m)\u001b[0m\u001b[0;34m:\u001b[0m\u001b[0;34m\u001b[0m\u001b[0;34m\u001b[0m\u001b[0m\n",
            "\u001b[0;32m/usr/local/lib/python3.6/dist-packages/IPython/core/magics/execution.py\u001b[0m in \u001b[0;36mtime\u001b[0;34m(self, line, cell, local_ns)\u001b[0m\n\u001b[1;32m   1191\u001b[0m         \u001b[0;32melse\u001b[0m\u001b[0;34m:\u001b[0m\u001b[0;34m\u001b[0m\u001b[0;34m\u001b[0m\u001b[0m\n\u001b[1;32m   1192\u001b[0m             \u001b[0mst\u001b[0m \u001b[0;34m=\u001b[0m \u001b[0mclock2\u001b[0m\u001b[0;34m(\u001b[0m\u001b[0;34m)\u001b[0m\u001b[0;34m\u001b[0m\u001b[0;34m\u001b[0m\u001b[0m\n\u001b[0;32m-> 1193\u001b[0;31m             \u001b[0mexec\u001b[0m\u001b[0;34m(\u001b[0m\u001b[0mcode\u001b[0m\u001b[0;34m,\u001b[0m \u001b[0mglob\u001b[0m\u001b[0;34m,\u001b[0m \u001b[0mlocal_ns\u001b[0m\u001b[0;34m)\u001b[0m\u001b[0;34m\u001b[0m\u001b[0;34m\u001b[0m\u001b[0m\n\u001b[0m\u001b[1;32m   1194\u001b[0m             \u001b[0mend\u001b[0m \u001b[0;34m=\u001b[0m \u001b[0mclock2\u001b[0m\u001b[0;34m(\u001b[0m\u001b[0;34m)\u001b[0m\u001b[0;34m\u001b[0m\u001b[0;34m\u001b[0m\u001b[0m\n\u001b[1;32m   1195\u001b[0m             \u001b[0mout\u001b[0m \u001b[0;34m=\u001b[0m \u001b[0;32mNone\u001b[0m\u001b[0;34m\u001b[0m\u001b[0;34m\u001b[0m\u001b[0m\n",
            "\u001b[0;32m<timed exec>\u001b[0m in \u001b[0;36m<module>\u001b[0;34m()\u001b[0m\n",
            "\u001b[0;31mAttributeError\u001b[0m: module 'seaborn' has no attribute 'scatterplot'"
          ]
        },
        {
          "output_type": "display_data",
          "data": {
            "text/plain": [
              "<Figure size 1080x360 with 0 Axes>"
            ]
          },
          "metadata": {
            "tags": []
          }
        },
        {
          "output_type": "display_data",
          "data": {
            "text/plain": [
              "<Figure size 1080x360 with 0 Axes>"
            ]
          },
          "metadata": {
            "tags": []
          }
        }
      ]
    },
    {
      "metadata": {
        "id": "m1N6kzADZmW9",
        "colab_type": "code",
        "outputId": "02b16636-5a79-4903-f6e6-bcfac53b79da",
        "colab": {
          "base_uri": "https://localhost:8080/",
          "height": 85
        }
      },
      "cell_type": "code",
      "source": [
        "fars_feat.NHS.value_counts()"
      ],
      "execution_count": 35,
      "outputs": [
        {
          "output_type": "execute_result",
          "data": {
            "text/plain": [
              "0    20241\n",
              "1    13086\n",
              "9      920\n",
              "Name: NHS, dtype: int64"
            ]
          },
          "metadata": {
            "tags": []
          },
          "execution_count": 35
        }
      ]
    },
    {
      "metadata": {
        "id": "rD4X_PhK4pFC",
        "colab_type": "text"
      },
      "cell_type": "markdown",
      "source": [
        "### Variance\n",
        "\n",
        "#### We do have a large amount of variance in our feaures sow we will apply a min/max scaler.  Logistic regression and many other algorithms perform better if the features are similar in their range of their values.  "
      ]
    },
    {
      "metadata": {
        "id": "siFfjc_a6SD4",
        "colab_type": "code",
        "outputId": "23d05222-d881-4b95-bcf6-86746b9465e5",
        "colab": {
          "base_uri": "https://localhost:8080/",
          "height": 204
        }
      },
      "cell_type": "code",
      "source": [
        "fars_feat.var()"
      ],
      "execution_count": 36,
      "outputs": [
        {
          "output_type": "execute_result",
          "data": {
            "text/plain": [
              "VE_TOTAL      0.695367\n",
              "VE_FORMS      0.625192\n",
              "PVH_INVL      0.082732\n",
              "DAY          77.064411\n",
              "MONTH        11.362991\n",
              "YEAR          0.000000\n",
              "DAY_WEEK      4.338479\n",
              "HOUR        103.206686\n",
              "MINUTE      339.384989\n",
              "NHS           2.168901\n",
              "dtype: float64"
            ]
          },
          "metadata": {
            "tags": []
          },
          "execution_count": 36
        }
      ]
    },
    {
      "metadata": {
        "id": "Q8DCxz4pHO1h",
        "colab_type": "code",
        "colab": {}
      },
      "cell_type": "code",
      "source": [
        "scaler = MinMaxScaler(copy=True, feature_range=(0, 1))\n",
        "fars_feat_scal = scaler.fit_transform(fars_feat)"
      ],
      "execution_count": 0,
      "outputs": []
    },
    {
      "metadata": {
        "id": "70uL_4LCuLTz",
        "colab_type": "code",
        "outputId": "57554939-bb91-45a6-81bb-8cfe8ec74304",
        "colab": {
          "base_uri": "https://localhost:8080/",
          "height": 34
        }
      },
      "cell_type": "code",
      "source": [
        "fars_feat_scal.shape\n"
      ],
      "execution_count": 38,
      "outputs": [
        {
          "output_type": "execute_result",
          "data": {
            "text/plain": [
              "(34247, 10)"
            ]
          },
          "metadata": {
            "tags": []
          },
          "execution_count": 38
        }
      ]
    },
    {
      "metadata": {
        "id": "1OZx-EmVqihN",
        "colab_type": "text"
      },
      "cell_type": "markdown",
      "source": [
        "#### Testing how the correlation of features after determining their importance in calculating the primary metric, the outcomes using less than 50% correlated (7 feature left), 10% correlated (7 features left), 5% correlated (7 features left), 1% correleated (6 features left) were generated.  For our model we attempted to utilize the 1% list, the 50% list and .05% list.  For each of the four models we chose using the correlation lists resulted in lower accuracy and F1 values. "
      ]
    },
    {
      "metadata": {
        "id": "dbuzYIQu-3nC",
        "colab_type": "code",
        "colab": {}
      },
      "cell_type": "code",
      "source": [
        "#corrlist_1_per =list(corr_dataframe(fars_feat_scaldf,.01))\n",
        "#corrlist_50_per =list(corr_dataframe(fars_feat_scaldf,.5))\n",
        "#corrlist_p05_per =list(corr_dataframe(fars_feat_scaldf,.0005))"
      ],
      "execution_count": 0,
      "outputs": []
    },
    {
      "metadata": {
        "id": "ULxuHX7-EDrg",
        "colab_type": "code",
        "colab": {}
      },
      "cell_type": "code",
      "source": [
        "#data_corr = fars_feat_scaldf[corrlist_p05_per]\n",
        "#data_corr_all = fars_feat_scal[corrlist_p05_per]"
      ],
      "execution_count": 0,
      "outputs": []
    },
    {
      "metadata": {
        "id": "5ZuSfakVF301",
        "colab_type": "text"
      },
      "cell_type": "markdown",
      "source": [
        "### Training and Testing\n",
        "\n",
        "#### The data is then split into 80% training and 20% testing to allow for more reliable results. \n",
        "\n"
      ]
    },
    {
      "metadata": {
        "id": "0ZFPDCv4kuhc",
        "colab_type": "code",
        "colab": {}
      },
      "cell_type": "code",
      "source": [
        "X_train, X_test, y_train, y_test = train_test_split(fars_feat_scal, y, test_size=0.2, random_state=1)"
      ],
      "execution_count": 0,
      "outputs": []
    },
    {
      "metadata": {
        "id": "z0TwBgQyGxqZ",
        "colab_type": "text"
      },
      "cell_type": "markdown",
      "source": [
        "### Random Forest: Cross Validation and Kfolds"
      ]
    },
    {
      "metadata": {
        "id": "cURvDTnFnOEJ",
        "colab_type": "code",
        "colab": {}
      },
      "cell_type": "code",
      "source": [
        "kfolds = StratifiedShuffleSplit(n_splits =10, random_state=1)"
      ],
      "execution_count": 0,
      "outputs": []
    },
    {
      "metadata": {
        "id": "rAfEk0Qyqwhm",
        "colab_type": "code",
        "outputId": "fc1711a8-cce9-465c-b320-bd74fa673f5d",
        "colab": {
          "base_uri": "https://localhost:8080/",
          "height": 323
        }
      },
      "cell_type": "code",
      "source": [
        "forest = RandomForestClassifier( n_jobs=-1, class_weight='balanced', n_estimators = 500, max_features = 7, max_depth=12, random_state = 1)\n",
        "\n",
        "print(cross_val_score(forest,X_train, y_train, cv=kfolds, scoring = 'recall'))\n",
        "pred_y_sklearn =cross_val_predict(forest, X_test, y_test, cv=10)\n",
        "y_true = y_test\n",
        "y_pred = cross_val_predict(forest, X_test, y_test, cv=10)\n",
        "print('\\n Confusion Matrix')\n",
        "#print(\\n confusion_matrix(y_pred, y_true))\n",
        "print(pd.crosstab(pred_y_sklearn, y_test))\n",
        "print(\"\")\n",
        "print(classification_report(y_pred, y_true))"
      ],
      "execution_count": 43,
      "outputs": [
        {
          "output_type": "stream",
          "text": [
            "[0.7932243  0.80023364 0.79672897 0.82476636 0.79906542 0.83761682\n",
            " 0.80607477 0.81658879 0.82359813 0.78971963]\n",
            "\n",
            " Confusion Matrix\n",
            "fatal_ratio_great_half     0     1\n",
            "row_0                             \n",
            "0                       3472   628\n",
            "1                       1276  1474\n",
            "\n",
            "              precision    recall  f1-score   support\n",
            "\n",
            "           0       0.73      0.85      0.78      4100\n",
            "           1       0.70      0.54      0.61      2750\n",
            "\n",
            "   micro avg       0.72      0.72      0.72      6850\n",
            "   macro avg       0.72      0.69      0.70      6850\n",
            "weighted avg       0.72      0.72      0.71      6850\n",
            "\n"
          ],
          "name": "stdout"
        }
      ]
    },
    {
      "metadata": {
        "id": "AubFuzjjuxWQ",
        "colab_type": "code",
        "outputId": "dad67fd3-7a3a-4cdb-c602-0364955afd2f",
        "colab": {
          "base_uri": "https://localhost:8080/",
          "height": 68
        }
      },
      "cell_type": "code",
      "source": [
        "y.value_counts()"
      ],
      "execution_count": 43,
      "outputs": [
        {
          "output_type": "execute_result",
          "data": {
            "text/plain": [
              "0    23586\n",
              "1    10661\n",
              "Name: fatal_ratio_great_half, dtype: int64"
            ]
          },
          "metadata": {
            "tags": []
          },
          "execution_count": 43
        }
      ]
    },
    {
      "metadata": {
        "id": "UandW0PMZ7KF",
        "colab_type": "code",
        "colab": {}
      },
      "cell_type": "code",
      "source": [
        "clf = LogisticRegressionCV(Cs =1, cv=kfolds, random_state =1, max_iter = 1000, class_weight ='balanced')\n",
        "clf_lasso = LogisticRegressionCV(Cs =1, cv=kfolds, random_state =1, max_iter = 1000, penalty='l2', class_weight='balanced', scoring='recall')\n",
        "forest = RandomForestClassifier(n_jobs=-1, class_weight='balanced', random_state = 1)\n"
      ],
      "execution_count": 0,
      "outputs": []
    },
    {
      "metadata": {
        "id": "T8iWbhOvIXJD",
        "colab_type": "code",
        "colab": {
          "base_uri": "https://localhost:8080/",
          "height": 51
        },
        "outputId": "0a8f2767-8ed8-476e-b9e6-4cd10859eef9"
      },
      "cell_type": "code",
      "source": [
        "%%time\n",
        "parameters = {'max_depth': [9,12,15], 'n_estimators' : [400,500,700], 'max_features' : [7]}\n",
        " \n",
        "forest_grid = GridSearchCV(forest, parameters, cv=kfolds, scoring='recall')\n",
        "forest_grid.fit(X_train, y_train)"
      ],
      "execution_count": 45,
      "outputs": [
        {
          "output_type": "stream",
          "text": [
            "CPU times: user 1min 53s, sys: 4.99 s, total: 1min 58s\n",
            "Wall time: 6min 5s\n"
          ],
          "name": "stdout"
        }
      ]
    },
    {
      "metadata": {
        "id": "nsQcbeEZanqD",
        "colab_type": "code",
        "colab": {
          "base_uri": "https://localhost:8080/",
          "height": 34
        },
        "outputId": "06d4bb04-7b81-453e-b7d8-97849ef88c87"
      },
      "cell_type": "code",
      "source": [
        "forest_grid.best_params_"
      ],
      "execution_count": 48,
      "outputs": [
        {
          "output_type": "execute_result",
          "data": {
            "text/plain": [
              "{'max_depth': 12, 'max_features': 7, 'n_estimators': 500}"
            ]
          },
          "metadata": {
            "tags": []
          },
          "execution_count": 48
        }
      ]
    },
    {
      "metadata": {
        "id": "CSQGhk39SlB4",
        "colab_type": "code",
        "colab": {
          "base_uri": "https://localhost:8080/",
          "height": 85
        },
        "outputId": "88790b25-1a5a-4c1b-8127-235af54b975a"
      },
      "cell_type": "code",
      "source": [
        "%%time\n",
        "print(cross_val_score(forest_grid,X_train, y_train, cv=kfolds))\n"
      ],
      "execution_count": 46,
      "outputs": [
        {
          "output_type": "stream",
          "text": [
            "[0.7932243  0.80023364 0.79672897 0.82476636 0.79906542 0.83761682\n",
            " 0.80607477 0.81658879 0.82359813 0.78971963]\n",
            "CPU times: user 12min 55s, sys: 47.8 s, total: 13min 43s\n",
            "Wall time: 54min 50s\n"
          ],
          "name": "stdout"
        }
      ]
    },
    {
      "metadata": {
        "id": "KdDkLXM93bVJ",
        "colab_type": "code",
        "colab": {
          "base_uri": "https://localhost:8080/",
          "height": 323
        },
        "outputId": "a6e95ab5-db80-47d2-9059-363d872fec9d"
      },
      "cell_type": "code",
      "source": [
        "%%time\n",
        "y_true = y_test\n",
        "y_pred = cross_val_predict(forest_grid, X_test, y_test, cv=10, scoring = 'recall')\n",
        "print('\\n Confusion Matrix')\n",
        "#print(\\n confusion_matrix(y_pred, y_true))\n",
        "print(pd.crosstab(y_pred, y_test))\n",
        "print(\"\")\n",
        "print(classification_report(y_pred, y_true))"
      ],
      "execution_count": 47,
      "outputs": [
        {
          "output_type": "stream",
          "text": [
            "\n",
            " Confusion Matrix\n",
            "fatal_ratio_great_half     0     1\n",
            "row_0                             \n",
            "0                       3472   628\n",
            "1                       1276  1474\n",
            "\n",
            "              precision    recall  f1-score   support\n",
            "\n",
            "           0       0.73      0.85      0.78      4100\n",
            "           1       0.70      0.54      0.61      2750\n",
            "\n",
            "   micro avg       0.72      0.72      0.72      6850\n",
            "   macro avg       0.72      0.69      0.70      6850\n",
            "weighted avg       0.72      0.72      0.71      6850\n",
            "\n",
            "CPU times: user 4min 51s, sys: 30.7 s, total: 5min 21s\n",
            "Wall time: 14min 57s\n"
          ],
          "name": "stdout"
        }
      ]
    },
    {
      "metadata": {
        "id": "hzwlH5ujjkcy",
        "colab_type": "code",
        "colab": {
          "base_uri": "https://localhost:8080/",
          "height": 408
        },
        "outputId": "00f87d5c-6afb-4c03-cf5e-dd78f15a7951"
      },
      "cell_type": "code",
      "source": [
        "%%time\n",
        "\n",
        "fit = clf.fit(X_train, y_train)\n",
        "\n",
        "# Display.\n",
        "print('Coefficients')\n",
        "print(fit.coef_)\n",
        "print(fit.intercept_)\n",
        "pred_y_sklearn = clf.predict(X_test)\n",
        "y_true = y_test\n",
        "y_pred = clf.predict(X_test)\n",
        "print('\\n Accuracy by admission status')\n",
        "print(confusion_matrix(y_pred, y_true))\n",
        "#print(pd.crosstab(pred_y_sklearn, y_test))\n",
        "print(pred_y_sklearn.shape)\n",
        "print('\\n Percentage accuracy')\n",
        "print(clf.score(X_test, y_test))\n",
        "print(classification_report(y_pred, y_true))"
      ],
      "execution_count": 49,
      "outputs": [
        {
          "output_type": "stream",
          "text": [
            "Coefficients\n",
            "[[-0.01400775 -0.01417276  0.00046504  0.00037066 -0.00134905  0.\n",
            "  -0.00537851 -0.00067639  0.00252849 -0.01569693]]\n",
            "[0.00400515]\n",
            "\n",
            " Accuracy by admission status\n",
            "[[2580  862]\n",
            " [2168 1240]]\n",
            "(6850,)\n",
            "\n",
            " Percentage accuracy\n",
            "0.5576642335766423\n",
            "              precision    recall  f1-score   support\n",
            "\n",
            "           0       0.54      0.75      0.63      3442\n",
            "           1       0.59      0.36      0.45      3408\n",
            "\n",
            "   micro avg       0.56      0.56      0.56      6850\n",
            "   macro avg       0.57      0.56      0.54      6850\n",
            "weighted avg       0.57      0.56      0.54      6850\n",
            "\n",
            "CPU times: user 672 ms, sys: 343 ms, total: 1.02 s\n",
            "Wall time: 562 ms\n"
          ],
          "name": "stdout"
        }
      ]
    },
    {
      "metadata": {
        "id": "n40WSQAXjpYF",
        "colab_type": "code",
        "colab": {
          "base_uri": "https://localhost:8080/",
          "height": 289
        },
        "outputId": "804a66d6-1ed5-4ef0-86a5-f0c5ee35d0ef"
      },
      "cell_type": "code",
      "source": [
        "%%time\n",
        "fit = clf_lasso.fit(X_train, y_train)\n",
        "\n",
        "# Display.\n",
        "print('Coefficients')\n",
        "print(fit.coef_)\n",
        "print(fit.intercept_)\n",
        "y_true = y_test\n",
        "y_pred = clf_lasso.predict(X_test)\n",
        "print('\\n Accuracy by admission status')\n",
        "#print(confusion_matrix(y_pred, y_true))\n",
        "print(pd.crosstab(y_pred, y_test))\n",
        "print(y_pred.shape)\n",
        "print('\\n Percentage accuracy')\n",
        "print(clf_lasso.score(X_test, y_test))\n",
        "print(classification_report(y_pred, y_true))"
      ],
      "execution_count": 50,
      "outputs": [
        {
          "output_type": "stream",
          "text": [
            "Coefficients\n",
            "[[-0.01400775 -0.01417276  0.00046504  0.00037066 -0.00134905  0.\n",
            "  -0.00537851 -0.00067639  0.00252849 -0.01569693]]\n",
            "[0.00400515]\n",
            "\n",
            " Accuracy by admission status\n",
            "fatal_ratio_great_half     0     1\n",
            "row_0                             \n",
            "0                       2580   862\n",
            "1                       2168  1240\n",
            "(6850,)\n",
            "\n",
            " Percentage accuracy\n",
            "0.5899143672692674\n",
            "CPU times: user 687 ms, sys: 418 ms, total: 1.11 s\n",
            "Wall time: 561 ms\n"
          ],
          "name": "stdout"
        }
      ]
    },
    {
      "metadata": {
        "id": "z2PQZSBPIlFL",
        "colab_type": "code",
        "colab": {
          "base_uri": "https://localhost:8080/",
          "height": 102
        },
        "outputId": "8b460710-fd74-43a7-e0dd-5d0843ef3c65"
      },
      "cell_type": "code",
      "source": [
        "%%time\n",
        "from sklearn.linear_model import Ridge\n",
        "from sklearn.linear_model import RidgeCV\n",
        "from sklearn.linear_model import RidgeClassifierCV\n",
        "from sklearn.linear_model import RidgeClassifier\n",
        "\n",
        "ridge = RidgeClassifierCV(alphas=[1e-3, 1e-2, 1e-1, 1], class_weight='balanced', cv=kfolds)\n",
        "ridge.fit(X_train,y_train)\n",
        "scores = cross_val_score(ridge, X_train, y_train, cv=kfolds)\n",
        "\n",
        "#ridgeregcv = RidgeCV(alphas=.35, cv = kfolds) \n",
        "#ridgeregcv.fit(X_train, y_train)\n",
        "#print(ridgeregcv.score(X_train, y_train))\n",
        "#origparams = ridgeregcv.coef_[0]\n",
        "#print(origparams)\n",
        "print(scores)\n",
        "print(\"Accuracy: {} (+/- {})\".format(scores.mean(), scores.std() * 2))"
      ],
      "execution_count": 51,
      "outputs": [
        {
          "output_type": "stream",
          "text": [
            "[0.68686131 0.67554745 0.68430657 0.69270073 0.69233577 0.69525547\n",
            " 0.69963504 0.67372263 0.67883212 0.69343066]\n",
            "Accuracy: 0.6872627737226277 (+/- 0.016862577764113217)\n",
            "CPU times: user 8.2 s, sys: 4.56 s, total: 12.8 s\n",
            "Wall time: 7.02 s\n"
          ],
          "name": "stdout"
        }
      ]
    },
    {
      "metadata": {
        "id": "cuDXFgCgORYa",
        "colab_type": "code",
        "colab": {
          "base_uri": "https://localhost:8080/",
          "height": 51
        },
        "outputId": "2d45af42-1f37-4bae-fc90-10c13243283b"
      },
      "cell_type": "code",
      "source": [
        "%%time\n",
        "from sklearn.model_selection import GridSearchCV\n",
        "ridge2 = RidgeClassifier(class_weight='balanced')\n",
        "\n",
        "a_list = [.01, .1, .02, .2, .03, 0.3, .04, .4, .05, .5, .06, .6, .07,.7, .08, .8, .09, .9, .1]\n",
        "alpha_list = a_list*2\n",
        "\n",
        "parameters = {'alpha': alpha_list,\n",
        "                    'fit_intercept': [True,False], \n",
        "                    'normalize' :[False, True]}\n",
        "ridge_grid = GridSearchCV(ridge2, parameters, cv=kfolds, scoring='recall')\n",
        "ridge_grid.fit(X_train, y_train)\n"
      ],
      "execution_count": 52,
      "outputs": [
        {
          "output_type": "stream",
          "text": [
            "CPU times: user 1min, sys: 39.8 s, total: 1min 40s\n",
            "Wall time: 50.6 s\n"
          ],
          "name": "stdout"
        }
      ]
    },
    {
      "metadata": {
        "id": "PLp_ReEbqQZo",
        "colab_type": "code",
        "colab": {}
      },
      "cell_type": "code",
      "source": [
        "#alpha_list"
      ],
      "execution_count": 0,
      "outputs": []
    },
    {
      "metadata": {
        "id": "2sOWpVm5hK5c",
        "colab_type": "code",
        "colab": {
          "base_uri": "https://localhost:8080/",
          "height": 34
        },
        "outputId": "8a38d0ce-0f55-4456-c306-6144e328d32d"
      },
      "cell_type": "code",
      "source": [
        "ridge_grid.score(X_test, y_test)"
      ],
      "execution_count": 54,
      "outputs": [
        {
          "output_type": "execute_result",
          "data": {
            "text/plain": [
              "0.9091341579448144"
            ]
          },
          "metadata": {
            "tags": []
          },
          "execution_count": 54
        }
      ]
    },
    {
      "metadata": {
        "id": "WlcKhm3YiQt0",
        "colab_type": "code",
        "colab": {
          "base_uri": "https://localhost:8080/",
          "height": 34
        },
        "outputId": "3cbaa3f0-7168-474a-f0bc-36c0dde4e1ca"
      },
      "cell_type": "code",
      "source": [
        "ridge_grid.best_score_ "
      ],
      "execution_count": 55,
      "outputs": [
        {
          "output_type": "execute_result",
          "data": {
            "text/plain": [
              "0.9078271028037384"
            ]
          },
          "metadata": {
            "tags": []
          },
          "execution_count": 55
        }
      ]
    },
    {
      "metadata": {
        "id": "52QJlL_CkCzQ",
        "colab_type": "code",
        "colab": {
          "base_uri": "https://localhost:8080/",
          "height": 34
        },
        "outputId": "020c5f3a-74d2-4a8a-d809-a7442018a26a"
      },
      "cell_type": "code",
      "source": [
        "ridge_grid.best_params_"
      ],
      "execution_count": 56,
      "outputs": [
        {
          "output_type": "execute_result",
          "data": {
            "text/plain": [
              "{'alpha': 0.01, 'fit_intercept': False, 'normalize': False}"
            ]
          },
          "metadata": {
            "tags": []
          },
          "execution_count": 56
        }
      ]
    },
    {
      "metadata": {
        "id": "gkJEysQLkPuT",
        "colab_type": "code",
        "colab": {
          "base_uri": "https://localhost:8080/",
          "height": 102
        },
        "outputId": "eb3e62ae-7ece-4979-e92a-567b03b24060"
      },
      "cell_type": "code",
      "source": [
        "pred_y_sklearn = ridge_grid.predict(X_test)\n",
        "y_true = y_test\n",
        "y_pred = ridge_grid.predict(X_test)\n",
        "print('\\n Accuracy by admission status')\n",
        "print(confusion_matrix(y_pred, y_true))\n",
        "#print(pd.crosstab(pred_y_sklearn, y_test))\n",
        "print(pred_y_sklearn.shape) "
      ],
      "execution_count": 57,
      "outputs": [
        {
          "output_type": "stream",
          "text": [
            "\n",
            " Accuracy by admission status\n",
            "[[2835  191]\n",
            " [1913 1911]]\n",
            "(6850,)\n"
          ],
          "name": "stdout"
        }
      ]
    },
    {
      "metadata": {
        "id": "FU-xBf1aFzwv",
        "colab_type": "code",
        "colab": {}
      },
      "cell_type": "code",
      "source": [
        "                                             "
      ],
      "execution_count": 0,
      "outputs": []
    }
  ]
}